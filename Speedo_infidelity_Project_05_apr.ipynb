{
  "nbformat": 4,
  "nbformat_minor": 0,
  "metadata": {
    "colab": {
      "name": " Speedo_infidelity_Project_05_apr",
      "provenance": [],
      "collapsed_sections": [
        "TE8qTJMyCOwv",
        "WwdA0zpNythC",
        "CjNIua7HCLW7"
      ],
      "toc_visible": true
    },
    "kernelspec": {
      "name": "python3",
      "display_name": "Python 3"
    },
    "language_info": {
      "name": "python"
    }
  },
  "cells": [
    {
      "cell_type": "markdown",
      "source": [
        "# Business Understanding\n",
        "\n",
        "\n",
        "## Business Overview\n",
        "\n",
        "\n",
        "In a study titled America's Generation Gap in Extramarital Affairs, 20% of older couples noted that they had cheated during their marriage. About 14% of couples under the age of 55 reported adultery in their marriage. Most people who cheat have been married for 20 to 30 years and are between the age of 50 and 60.\n",
        "Since the groundbreaking study of Kinsey (1948) on human sexuality that explored the extramarital sexual behavior of American men and women, a host of factors have been examined as correlates of extramarital sexual behavior. Most prominent among these factors is the role of marital satisfaction on the extramarital activity of husbands and wives (e.g. Glass and Wright, 1977). Other correlates of extramarital sex that were found in previous studies are largely demographic and socio-economic characteristics."
      ],
      "metadata": {
        "id": "QM5vtcCI9eKG"
      }
    },
    {
      "cell_type": "markdown",
      "source": [
        "## Problem Statement.\n",
        "\n",
        "\n",
        "People in most cultures view sexual fidelity as one of the key foundations of a strong marital relationship. When a person engages in extramarital affairs, irrespective of the length of involvement in such an activity and whether or not the spouse is aware of it, the mutual 'trust' in 'sexual fidelity' takes an intrinsic blow. However, most people are unaware of the factors that most contribute to infidelity. This document seeks to enlighten people on the same."
      ],
      "metadata": {
        "id": "_5ZF5B5D9X24"
      }
    },
    {
      "cell_type": "markdown",
      "source": [
        "## Objectives:\n",
        "\n",
        "### General Objective:\n",
        "\n",
        "\n",
        "\n",
        "•To determine what factor(s) contribute(s) to an individual having an extramarital affair.\n",
        "\n",
        "### Specific Objectives:\n",
        "\n",
        "\n",
        "\n",
        "•To determine which gender has more extramarital affairs.\n",
        "\n",
        "\n",
        "\n",
        "•To determine which age/age bracket has more extramarital affairs.\n",
        "\n",
        "\n",
        "\n",
        "•To investigate which education level has the highest number of extramarital affairs.\n",
        "\n",
        "\n",
        "\n",
        "•To investigate which occupation has the highest number of extramarital affairs."
      ],
      "metadata": {
        "id": "BRWzCWrkWkSm"
      }
    },
    {
      "cell_type": "markdown",
      "source": [
        "## Research Questions:\n",
        "\n",
        "\n",
        "\n",
        "• What factor(s) contribute(s) to an individual having an extramarital affair?\n",
        "\n",
        "\n",
        "\n",
        "• Which gender has more extramarital affairs?\n",
        "\n",
        "\n",
        "\n",
        "• Which age/age bracket has more extramarital affairs?\n",
        "\n",
        "\n",
        "\n",
        "• Which education level has the highest number of extramarital affairs?\n",
        "\n",
        "\n",
        "\n",
        "• Which occupation has the highest number of extramarital affairs?"
      ],
      "metadata": {
        "id": "tS9rHSU8_aq0"
      }
    },
    {
      "cell_type": "markdown",
      "source": [
        "## Business Metric of Success\n",
        "\n",
        "\n",
        "\n",
        "•Successfully determining which factor(s) contribute(s) more to extramarital affairs."
      ],
      "metadata": {
        "id": "t65S4MUJ_maW"
      }
    },
    {
      "cell_type": "markdown",
      "source": [
        "# Importing libraries"
      ],
      "metadata": {
        "id": "8vMTEBmGCxpx"
      }
    },
    {
      "cell_type": "code",
      "execution_count": null,
      "metadata": {
        "id": "RZk3enJFCGmg"
      },
      "outputs": [],
      "source": [
        "import pandas as pd\n",
        "import numpy as np\n",
        "import matplotlib.pyplot as plt\n",
        "import seaborn as sns\n",
        "\n",
        "from sklearn.linear_model import LogisticRegression\n",
        "from sklearn.datasets import make_classification\n",
        "from sklearn.model_selection import train_test_split\n",
        "\n",
        "from imblearn import under_sampling \n",
        "from imblearn import over_sampling\n",
        "from imblearn.over_sampling import SMOTE\n",
        "\n",
        "import scipy.stats.distributions as dist\n",
        "\n",
        "from collections import Counter"
      ]
    },
    {
      "cell_type": "markdown",
      "source": [
        "# Loading the dataset"
      ],
      "metadata": {
        "id": "seQsiS41EUjL"
      }
    },
    {
      "cell_type": "code",
      "source": [
        "Affairs=pd.read_csv('/content/Affairs (1).csv')"
      ],
      "metadata": {
        "id": "RQ52o3wzEZvL"
      },
      "execution_count": null,
      "outputs": []
    },
    {
      "cell_type": "markdown",
      "source": [
        "# Data description\n",
        "\n",
        "**affairs**         : How often engaged in extramarital sexual intercourse during the past year; 0=none, 1=once, 2=twice, 3=3 times, 7= 4-10 times, 12=monthly/weekly/daily\n",
        "\n",
        "**gender**: Male or Female\n",
        "\n",
        "**age**: Age\n",
        "\n",
        "**yrs_married**: Number of years married\n",
        "\n",
        "**children**: Yes or No \n",
        "\n",
        "**religiousness**  : How religious, 1 = not, 2 = mildly, 3 = fairly, 4 = strongly\n",
        "\n",
        "**education**     : Level of education, 9 = grade school, 12 = high school, 14 = some college, 16 = college graduate, 17 = some graduate school, 18= graduate,  20 = advanced degree\n",
        "\n",
        "**occupation**     : 1 = student, 2=unskilled worker,farming, agriculture, 3 = semi-skilled, 4 = white-collar; 5 = teacher, counselor, social worker, nurse; artist, writers; technician, skilled worker, 6 = managerial,administrative, business, 7 = professional with advanced degree\n",
        "\n",
        "**rating**  : How rate marriage, 1 = very poor, 2 = poor, 3 = fair, 4 = good, 5 = very good\n",
        "\n",
        "[more info](https://drive.google.com/file/d/1L7lnXGN9UGxkaSp8RTQhHgvFJ5B9BbeX/view?usp=sharing)"
      ],
      "metadata": {
        "id": "_E5k3ckAxbFU"
      }
    },
    {
      "cell_type": "markdown",
      "source": [
        "# Data Exploration"
      ],
      "metadata": {
        "id": "BMCyiGZJFInt"
      }
    },
    {
      "cell_type": "code",
      "source": [
        "#checking the number of records in the data\n",
        "Affairs.shape\n"
      ],
      "metadata": {
        "id": "7vgW5mZoHvrC",
        "colab": {
          "base_uri": "https://localhost:8080/"
        },
        "outputId": "a68acec4-2b72-4092-98b2-d987649b61d5"
      },
      "execution_count": null,
      "outputs": [
        {
          "output_type": "execute_result",
          "data": {
            "text/plain": [
              "(601, 10)"
            ]
          },
          "metadata": {},
          "execution_count": 121
        }
      ]
    },
    {
      "cell_type": "markdown",
      "source": [
        "The dataset has 601 rows and 10 columns"
      ],
      "metadata": {
        "id": "UGiGpZSLJbXF"
      }
    },
    {
      "cell_type": "code",
      "source": [
        "# checking the top part of the dataset\n",
        "Affairs.head(4)"
      ],
      "metadata": {
        "id": "8GGiuXjLFVW0",
        "colab": {
          "base_uri": "https://localhost:8080/",
          "height": 256
        },
        "outputId": "e06707c9-7603-4c46-b86e-935f9a49cd66"
      },
      "execution_count": null,
      "outputs": [
        {
          "output_type": "execute_result",
          "data": {
            "text/plain": [
              "   Unnamed: 0  affairs  gender   age  yearsmarried children  religiousness  \\\n",
              "0           4        0    male  37.0          10.0       no              3   \n",
              "1           5        0  female  27.0           4.0       no              4   \n",
              "2          11        0  female  32.0          15.0      yes              1   \n",
              "3          16        0    male  57.0          15.0      yes              5   \n",
              "\n",
              "   education  occupation  rating  \n",
              "0         18           7       4  \n",
              "1         14           6       4  \n",
              "2         12           1       4  \n",
              "3         18           6       5  "
            ],
            "text/html": [
              "\n",
              "  <div id=\"df-acf6e58a-2151-4347-a0ba-086d9f7cf8be\">\n",
              "    <div class=\"colab-df-container\">\n",
              "      <div>\n",
              "<style scoped>\n",
              "    .dataframe tbody tr th:only-of-type {\n",
              "        vertical-align: middle;\n",
              "    }\n",
              "\n",
              "    .dataframe tbody tr th {\n",
              "        vertical-align: top;\n",
              "    }\n",
              "\n",
              "    .dataframe thead th {\n",
              "        text-align: right;\n",
              "    }\n",
              "</style>\n",
              "<table border=\"1\" class=\"dataframe\">\n",
              "  <thead>\n",
              "    <tr style=\"text-align: right;\">\n",
              "      <th></th>\n",
              "      <th>Unnamed: 0</th>\n",
              "      <th>affairs</th>\n",
              "      <th>gender</th>\n",
              "      <th>age</th>\n",
              "      <th>yearsmarried</th>\n",
              "      <th>children</th>\n",
              "      <th>religiousness</th>\n",
              "      <th>education</th>\n",
              "      <th>occupation</th>\n",
              "      <th>rating</th>\n",
              "    </tr>\n",
              "  </thead>\n",
              "  <tbody>\n",
              "    <tr>\n",
              "      <th>0</th>\n",
              "      <td>4</td>\n",
              "      <td>0</td>\n",
              "      <td>male</td>\n",
              "      <td>37.0</td>\n",
              "      <td>10.0</td>\n",
              "      <td>no</td>\n",
              "      <td>3</td>\n",
              "      <td>18</td>\n",
              "      <td>7</td>\n",
              "      <td>4</td>\n",
              "    </tr>\n",
              "    <tr>\n",
              "      <th>1</th>\n",
              "      <td>5</td>\n",
              "      <td>0</td>\n",
              "      <td>female</td>\n",
              "      <td>27.0</td>\n",
              "      <td>4.0</td>\n",
              "      <td>no</td>\n",
              "      <td>4</td>\n",
              "      <td>14</td>\n",
              "      <td>6</td>\n",
              "      <td>4</td>\n",
              "    </tr>\n",
              "    <tr>\n",
              "      <th>2</th>\n",
              "      <td>11</td>\n",
              "      <td>0</td>\n",
              "      <td>female</td>\n",
              "      <td>32.0</td>\n",
              "      <td>15.0</td>\n",
              "      <td>yes</td>\n",
              "      <td>1</td>\n",
              "      <td>12</td>\n",
              "      <td>1</td>\n",
              "      <td>4</td>\n",
              "    </tr>\n",
              "    <tr>\n",
              "      <th>3</th>\n",
              "      <td>16</td>\n",
              "      <td>0</td>\n",
              "      <td>male</td>\n",
              "      <td>57.0</td>\n",
              "      <td>15.0</td>\n",
              "      <td>yes</td>\n",
              "      <td>5</td>\n",
              "      <td>18</td>\n",
              "      <td>6</td>\n",
              "      <td>5</td>\n",
              "    </tr>\n",
              "  </tbody>\n",
              "</table>\n",
              "</div>\n",
              "      <button class=\"colab-df-convert\" onclick=\"convertToInteractive('df-acf6e58a-2151-4347-a0ba-086d9f7cf8be')\"\n",
              "              title=\"Convert this dataframe to an interactive table.\"\n",
              "              style=\"display:none;\">\n",
              "        \n",
              "  <svg xmlns=\"http://www.w3.org/2000/svg\" height=\"24px\"viewBox=\"0 0 24 24\"\n",
              "       width=\"24px\">\n",
              "    <path d=\"M0 0h24v24H0V0z\" fill=\"none\"/>\n",
              "    <path d=\"M18.56 5.44l.94 2.06.94-2.06 2.06-.94-2.06-.94-.94-2.06-.94 2.06-2.06.94zm-11 1L8.5 8.5l.94-2.06 2.06-.94-2.06-.94L8.5 2.5l-.94 2.06-2.06.94zm10 10l.94 2.06.94-2.06 2.06-.94-2.06-.94-.94-2.06-.94 2.06-2.06.94z\"/><path d=\"M17.41 7.96l-1.37-1.37c-.4-.4-.92-.59-1.43-.59-.52 0-1.04.2-1.43.59L10.3 9.45l-7.72 7.72c-.78.78-.78 2.05 0 2.83L4 21.41c.39.39.9.59 1.41.59.51 0 1.02-.2 1.41-.59l7.78-7.78 2.81-2.81c.8-.78.8-2.07 0-2.86zM5.41 20L4 18.59l7.72-7.72 1.47 1.35L5.41 20z\"/>\n",
              "  </svg>\n",
              "      </button>\n",
              "      \n",
              "  <style>\n",
              "    .colab-df-container {\n",
              "      display:flex;\n",
              "      flex-wrap:wrap;\n",
              "      gap: 12px;\n",
              "    }\n",
              "\n",
              "    .colab-df-convert {\n",
              "      background-color: #E8F0FE;\n",
              "      border: none;\n",
              "      border-radius: 50%;\n",
              "      cursor: pointer;\n",
              "      display: none;\n",
              "      fill: #1967D2;\n",
              "      height: 32px;\n",
              "      padding: 0 0 0 0;\n",
              "      width: 32px;\n",
              "    }\n",
              "\n",
              "    .colab-df-convert:hover {\n",
              "      background-color: #E2EBFA;\n",
              "      box-shadow: 0px 1px 2px rgba(60, 64, 67, 0.3), 0px 1px 3px 1px rgba(60, 64, 67, 0.15);\n",
              "      fill: #174EA6;\n",
              "    }\n",
              "\n",
              "    [theme=dark] .colab-df-convert {\n",
              "      background-color: #3B4455;\n",
              "      fill: #D2E3FC;\n",
              "    }\n",
              "\n",
              "    [theme=dark] .colab-df-convert:hover {\n",
              "      background-color: #434B5C;\n",
              "      box-shadow: 0px 1px 3px 1px rgba(0, 0, 0, 0.15);\n",
              "      filter: drop-shadow(0px 1px 2px rgba(0, 0, 0, 0.3));\n",
              "      fill: #FFFFFF;\n",
              "    }\n",
              "  </style>\n",
              "\n",
              "      <script>\n",
              "        const buttonEl =\n",
              "          document.querySelector('#df-acf6e58a-2151-4347-a0ba-086d9f7cf8be button.colab-df-convert');\n",
              "        buttonEl.style.display =\n",
              "          google.colab.kernel.accessAllowed ? 'block' : 'none';\n",
              "\n",
              "        async function convertToInteractive(key) {\n",
              "          const element = document.querySelector('#df-acf6e58a-2151-4347-a0ba-086d9f7cf8be');\n",
              "          const dataTable =\n",
              "            await google.colab.kernel.invokeFunction('convertToInteractive',\n",
              "                                                     [key], {});\n",
              "          if (!dataTable) return;\n",
              "\n",
              "          const docLinkHtml = 'Like what you see? Visit the ' +\n",
              "            '<a target=\"_blank\" href=https://colab.research.google.com/notebooks/data_table.ipynb>data table notebook</a>'\n",
              "            + ' to learn more about interactive tables.';\n",
              "          element.innerHTML = '';\n",
              "          dataTable['output_type'] = 'display_data';\n",
              "          await google.colab.output.renderOutput(dataTable, element);\n",
              "          const docLink = document.createElement('div');\n",
              "          docLink.innerHTML = docLinkHtml;\n",
              "          element.appendChild(docLink);\n",
              "        }\n",
              "      </script>\n",
              "    </div>\n",
              "  </div>\n",
              "  "
            ]
          },
          "metadata": {},
          "execution_count": 122
        }
      ]
    },
    {
      "cell_type": "code",
      "source": [
        "# previewing the bottom part of the dataset\n",
        "Affairs.tail(3)"
      ],
      "metadata": {
        "id": "wKPMk6OtGZ8b",
        "colab": {
          "base_uri": "https://localhost:8080/",
          "height": 225
        },
        "outputId": "2357ae40-1747-416f-d5eb-d378ec5a0770"
      },
      "execution_count": null,
      "outputs": [
        {
          "output_type": "execute_result",
          "data": {
            "text/plain": [
              "     Unnamed: 0  affairs  gender   age  yearsmarried children  religiousness  \\\n",
              "598        1954        2    male  32.0          10.0      yes              2   \n",
              "599        1959        2    male  22.0           7.0      yes              3   \n",
              "600        9010        1  female  32.0          15.0      yes              3   \n",
              "\n",
              "     education  occupation  rating  \n",
              "598         17           6       5  \n",
              "599         18           6       2  \n",
              "600         14           1       5  "
            ],
            "text/html": [
              "\n",
              "  <div id=\"df-c7ed554c-1d1f-4b6f-bbac-e17484140415\">\n",
              "    <div class=\"colab-df-container\">\n",
              "      <div>\n",
              "<style scoped>\n",
              "    .dataframe tbody tr th:only-of-type {\n",
              "        vertical-align: middle;\n",
              "    }\n",
              "\n",
              "    .dataframe tbody tr th {\n",
              "        vertical-align: top;\n",
              "    }\n",
              "\n",
              "    .dataframe thead th {\n",
              "        text-align: right;\n",
              "    }\n",
              "</style>\n",
              "<table border=\"1\" class=\"dataframe\">\n",
              "  <thead>\n",
              "    <tr style=\"text-align: right;\">\n",
              "      <th></th>\n",
              "      <th>Unnamed: 0</th>\n",
              "      <th>affairs</th>\n",
              "      <th>gender</th>\n",
              "      <th>age</th>\n",
              "      <th>yearsmarried</th>\n",
              "      <th>children</th>\n",
              "      <th>religiousness</th>\n",
              "      <th>education</th>\n",
              "      <th>occupation</th>\n",
              "      <th>rating</th>\n",
              "    </tr>\n",
              "  </thead>\n",
              "  <tbody>\n",
              "    <tr>\n",
              "      <th>598</th>\n",
              "      <td>1954</td>\n",
              "      <td>2</td>\n",
              "      <td>male</td>\n",
              "      <td>32.0</td>\n",
              "      <td>10.0</td>\n",
              "      <td>yes</td>\n",
              "      <td>2</td>\n",
              "      <td>17</td>\n",
              "      <td>6</td>\n",
              "      <td>5</td>\n",
              "    </tr>\n",
              "    <tr>\n",
              "      <th>599</th>\n",
              "      <td>1959</td>\n",
              "      <td>2</td>\n",
              "      <td>male</td>\n",
              "      <td>22.0</td>\n",
              "      <td>7.0</td>\n",
              "      <td>yes</td>\n",
              "      <td>3</td>\n",
              "      <td>18</td>\n",
              "      <td>6</td>\n",
              "      <td>2</td>\n",
              "    </tr>\n",
              "    <tr>\n",
              "      <th>600</th>\n",
              "      <td>9010</td>\n",
              "      <td>1</td>\n",
              "      <td>female</td>\n",
              "      <td>32.0</td>\n",
              "      <td>15.0</td>\n",
              "      <td>yes</td>\n",
              "      <td>3</td>\n",
              "      <td>14</td>\n",
              "      <td>1</td>\n",
              "      <td>5</td>\n",
              "    </tr>\n",
              "  </tbody>\n",
              "</table>\n",
              "</div>\n",
              "      <button class=\"colab-df-convert\" onclick=\"convertToInteractive('df-c7ed554c-1d1f-4b6f-bbac-e17484140415')\"\n",
              "              title=\"Convert this dataframe to an interactive table.\"\n",
              "              style=\"display:none;\">\n",
              "        \n",
              "  <svg xmlns=\"http://www.w3.org/2000/svg\" height=\"24px\"viewBox=\"0 0 24 24\"\n",
              "       width=\"24px\">\n",
              "    <path d=\"M0 0h24v24H0V0z\" fill=\"none\"/>\n",
              "    <path d=\"M18.56 5.44l.94 2.06.94-2.06 2.06-.94-2.06-.94-.94-2.06-.94 2.06-2.06.94zm-11 1L8.5 8.5l.94-2.06 2.06-.94-2.06-.94L8.5 2.5l-.94 2.06-2.06.94zm10 10l.94 2.06.94-2.06 2.06-.94-2.06-.94-.94-2.06-.94 2.06-2.06.94z\"/><path d=\"M17.41 7.96l-1.37-1.37c-.4-.4-.92-.59-1.43-.59-.52 0-1.04.2-1.43.59L10.3 9.45l-7.72 7.72c-.78.78-.78 2.05 0 2.83L4 21.41c.39.39.9.59 1.41.59.51 0 1.02-.2 1.41-.59l7.78-7.78 2.81-2.81c.8-.78.8-2.07 0-2.86zM5.41 20L4 18.59l7.72-7.72 1.47 1.35L5.41 20z\"/>\n",
              "  </svg>\n",
              "      </button>\n",
              "      \n",
              "  <style>\n",
              "    .colab-df-container {\n",
              "      display:flex;\n",
              "      flex-wrap:wrap;\n",
              "      gap: 12px;\n",
              "    }\n",
              "\n",
              "    .colab-df-convert {\n",
              "      background-color: #E8F0FE;\n",
              "      border: none;\n",
              "      border-radius: 50%;\n",
              "      cursor: pointer;\n",
              "      display: none;\n",
              "      fill: #1967D2;\n",
              "      height: 32px;\n",
              "      padding: 0 0 0 0;\n",
              "      width: 32px;\n",
              "    }\n",
              "\n",
              "    .colab-df-convert:hover {\n",
              "      background-color: #E2EBFA;\n",
              "      box-shadow: 0px 1px 2px rgba(60, 64, 67, 0.3), 0px 1px 3px 1px rgba(60, 64, 67, 0.15);\n",
              "      fill: #174EA6;\n",
              "    }\n",
              "\n",
              "    [theme=dark] .colab-df-convert {\n",
              "      background-color: #3B4455;\n",
              "      fill: #D2E3FC;\n",
              "    }\n",
              "\n",
              "    [theme=dark] .colab-df-convert:hover {\n",
              "      background-color: #434B5C;\n",
              "      box-shadow: 0px 1px 3px 1px rgba(0, 0, 0, 0.15);\n",
              "      filter: drop-shadow(0px 1px 2px rgba(0, 0, 0, 0.3));\n",
              "      fill: #FFFFFF;\n",
              "    }\n",
              "  </style>\n",
              "\n",
              "      <script>\n",
              "        const buttonEl =\n",
              "          document.querySelector('#df-c7ed554c-1d1f-4b6f-bbac-e17484140415 button.colab-df-convert');\n",
              "        buttonEl.style.display =\n",
              "          google.colab.kernel.accessAllowed ? 'block' : 'none';\n",
              "\n",
              "        async function convertToInteractive(key) {\n",
              "          const element = document.querySelector('#df-c7ed554c-1d1f-4b6f-bbac-e17484140415');\n",
              "          const dataTable =\n",
              "            await google.colab.kernel.invokeFunction('convertToInteractive',\n",
              "                                                     [key], {});\n",
              "          if (!dataTable) return;\n",
              "\n",
              "          const docLinkHtml = 'Like what you see? Visit the ' +\n",
              "            '<a target=\"_blank\" href=https://colab.research.google.com/notebooks/data_table.ipynb>data table notebook</a>'\n",
              "            + ' to learn more about interactive tables.';\n",
              "          element.innerHTML = '';\n",
              "          dataTable['output_type'] = 'display_data';\n",
              "          await google.colab.output.renderOutput(dataTable, element);\n",
              "          const docLink = document.createElement('div');\n",
              "          docLink.innerHTML = docLinkHtml;\n",
              "          element.appendChild(docLink);\n",
              "        }\n",
              "      </script>\n",
              "    </div>\n",
              "  </div>\n",
              "  "
            ]
          },
          "metadata": {},
          "execution_count": 123
        }
      ]
    },
    {
      "cell_type": "code",
      "source": [
        "# checking the data types, null values and number of entries\n",
        "Affairs.info()"
      ],
      "metadata": {
        "id": "BB85mhQGII0a",
        "colab": {
          "base_uri": "https://localhost:8080/"
        },
        "outputId": "6b324142-43ba-40f5-ddd0-27ed9e575258"
      },
      "execution_count": null,
      "outputs": [
        {
          "output_type": "stream",
          "name": "stdout",
          "text": [
            "<class 'pandas.core.frame.DataFrame'>\n",
            "RangeIndex: 601 entries, 0 to 600\n",
            "Data columns (total 10 columns):\n",
            " #   Column         Non-Null Count  Dtype  \n",
            "---  ------         --------------  -----  \n",
            " 0   Unnamed: 0     601 non-null    int64  \n",
            " 1   affairs        601 non-null    int64  \n",
            " 2   gender         601 non-null    object \n",
            " 3   age            601 non-null    float64\n",
            " 4   yearsmarried   601 non-null    float64\n",
            " 5   children       600 non-null    object \n",
            " 6   religiousness  601 non-null    int64  \n",
            " 7   education      601 non-null    int64  \n",
            " 8   occupation     601 non-null    int64  \n",
            " 9   rating         601 non-null    int64  \n",
            "dtypes: float64(2), int64(6), object(2)\n",
            "memory usage: 47.1+ KB\n"
          ]
        }
      ]
    },
    {
      "cell_type": "markdown",
      "source": [
        "The datatypes seem okay"
      ],
      "metadata": {
        "id": "AdvUfEWMx-NG"
      }
    },
    {
      "cell_type": "code",
      "source": [
        "# All variables and their values\n",
        "\n",
        "for col in Affairs.columns:\n",
        "  print(col,\"\\n\",Affairs[col].value_counts(),\"\\n\")\n",
        "  "
      ],
      "metadata": {
        "id": "4OuNth9OauIL",
        "colab": {
          "base_uri": "https://localhost:8080/"
        },
        "outputId": "835addca-ebd3-4818-a8ee-74179ad0fe27"
      },
      "execution_count": null,
      "outputs": [
        {
          "output_type": "stream",
          "name": "stdout",
          "text": [
            "Unnamed: 0 \n",
            " 4       1\n",
            "1719    1\n",
            "1726    1\n",
            "1749    1\n",
            "1752    1\n",
            "       ..\n",
            "916     1\n",
            "920     1\n",
            "921     1\n",
            "925     1\n",
            "9010    1\n",
            "Name: Unnamed: 0, Length: 601, dtype: int64 \n",
            "\n",
            "affairs \n",
            " 0     451\n",
            "7      42\n",
            "12     38\n",
            "1      34\n",
            "3      19\n",
            "2      17\n",
            "Name: affairs, dtype: int64 \n",
            "\n",
            "gender \n",
            " female    315\n",
            "male      286\n",
            "Name: gender, dtype: int64 \n",
            "\n",
            "age \n",
            " 27.0    153\n",
            "22.0    117\n",
            "32.0    115\n",
            "37.0     88\n",
            "42.0     56\n",
            "47.0     23\n",
            "57.0     22\n",
            "52.0     21\n",
            "17.5      6\n",
            "Name: age, dtype: int64 \n",
            "\n",
            "yearsmarried \n",
            " 15.000    204\n",
            "4.000     105\n",
            "1.500      88\n",
            "7.000      82\n",
            "10.000     70\n",
            "0.750      31\n",
            "0.125      11\n",
            "0.417      10\n",
            "Name: yearsmarried, dtype: int64 \n",
            "\n",
            "children \n",
            " yes    430\n",
            "no     170\n",
            "Name: children, dtype: int64 \n",
            "\n",
            "religiousness \n",
            " 4    190\n",
            "2    164\n",
            "3    129\n",
            "5     70\n",
            "1     48\n",
            "Name: religiousness, dtype: int64 \n",
            "\n",
            "education \n",
            " 14    154\n",
            "16    115\n",
            "18    112\n",
            "17     89\n",
            "20     80\n",
            "12     44\n",
            "9       7\n",
            "Name: education, dtype: int64 \n",
            "\n",
            "occupation \n",
            " 5    204\n",
            "6    143\n",
            "1    113\n",
            "4     68\n",
            "3     47\n",
            "7     13\n",
            "2     13\n",
            "Name: occupation, dtype: int64 \n",
            "\n",
            "rating \n",
            " 5    232\n",
            "4    194\n",
            "3     93\n",
            "2     66\n",
            "1     16\n",
            "Name: rating, dtype: int64 \n",
            "\n"
          ]
        }
      ]
    },
    {
      "cell_type": "markdown",
      "source": [
        "# Data Cleaning"
      ],
      "metadata": {
        "id": "dkgjY9w8K2_I"
      }
    },
    {
      "cell_type": "code",
      "source": [
        "# Droping and renaming columns\n",
        "Affairs.drop(['Unnamed: 0', 'Country'],axis=1, inplace=True)\n",
        "Affairs.head(1)"
      ],
      "metadata": {
        "id": "TJlceDUSLAUw",
        "colab": {
          "base_uri": "https://localhost:8080/",
          "height": 567
        },
        "outputId": "f5261532-d313-4d4a-ca07-cc7d982235c7"
      },
      "execution_count": null,
      "outputs": [
        {
          "output_type": "error",
          "ename": "KeyError",
          "evalue": "ignored",
          "traceback": [
            "\u001b[0;31m---------------------------------------------------------------------------\u001b[0m",
            "\u001b[0;31mKeyError\u001b[0m                                  Traceback (most recent call last)",
            "\u001b[0;32m<ipython-input-126-76d7e97f6142>\u001b[0m in \u001b[0;36m<module>\u001b[0;34m()\u001b[0m\n\u001b[1;32m      1\u001b[0m \u001b[0;31m# Droping and renaming columns\u001b[0m\u001b[0;34m\u001b[0m\u001b[0;34m\u001b[0m\u001b[0;34m\u001b[0m\u001b[0m\n\u001b[0;32m----> 2\u001b[0;31m \u001b[0mAffairs\u001b[0m\u001b[0;34m.\u001b[0m\u001b[0mdrop\u001b[0m\u001b[0;34m(\u001b[0m\u001b[0;34m[\u001b[0m\u001b[0;34m'Unnamed: 0'\u001b[0m\u001b[0;34m,\u001b[0m \u001b[0;34m'Country'\u001b[0m\u001b[0;34m]\u001b[0m\u001b[0;34m,\u001b[0m\u001b[0maxis\u001b[0m\u001b[0;34m=\u001b[0m\u001b[0;36m1\u001b[0m\u001b[0;34m,\u001b[0m \u001b[0minplace\u001b[0m\u001b[0;34m=\u001b[0m\u001b[0;32mTrue\u001b[0m\u001b[0;34m)\u001b[0m\u001b[0;34m\u001b[0m\u001b[0;34m\u001b[0m\u001b[0m\n\u001b[0m\u001b[1;32m      3\u001b[0m \u001b[0mAffairs\u001b[0m\u001b[0;34m.\u001b[0m\u001b[0mhead\u001b[0m\u001b[0;34m(\u001b[0m\u001b[0;36m1\u001b[0m\u001b[0;34m)\u001b[0m\u001b[0;34m\u001b[0m\u001b[0;34m\u001b[0m\u001b[0m\n",
            "\u001b[0;32m/usr/local/lib/python3.7/dist-packages/pandas/util/_decorators.py\u001b[0m in \u001b[0;36mwrapper\u001b[0;34m(*args, **kwargs)\u001b[0m\n\u001b[1;32m    309\u001b[0m                     \u001b[0mstacklevel\u001b[0m\u001b[0;34m=\u001b[0m\u001b[0mstacklevel\u001b[0m\u001b[0;34m,\u001b[0m\u001b[0;34m\u001b[0m\u001b[0;34m\u001b[0m\u001b[0m\n\u001b[1;32m    310\u001b[0m                 )\n\u001b[0;32m--> 311\u001b[0;31m             \u001b[0;32mreturn\u001b[0m \u001b[0mfunc\u001b[0m\u001b[0;34m(\u001b[0m\u001b[0;34m*\u001b[0m\u001b[0margs\u001b[0m\u001b[0;34m,\u001b[0m \u001b[0;34m**\u001b[0m\u001b[0mkwargs\u001b[0m\u001b[0;34m)\u001b[0m\u001b[0;34m\u001b[0m\u001b[0;34m\u001b[0m\u001b[0m\n\u001b[0m\u001b[1;32m    312\u001b[0m \u001b[0;34m\u001b[0m\u001b[0m\n\u001b[1;32m    313\u001b[0m         \u001b[0;32mreturn\u001b[0m \u001b[0mwrapper\u001b[0m\u001b[0;34m\u001b[0m\u001b[0;34m\u001b[0m\u001b[0m\n",
            "\u001b[0;32m/usr/local/lib/python3.7/dist-packages/pandas/core/frame.py\u001b[0m in \u001b[0;36mdrop\u001b[0;34m(self, labels, axis, index, columns, level, inplace, errors)\u001b[0m\n\u001b[1;32m   4911\u001b[0m             \u001b[0mlevel\u001b[0m\u001b[0;34m=\u001b[0m\u001b[0mlevel\u001b[0m\u001b[0;34m,\u001b[0m\u001b[0;34m\u001b[0m\u001b[0;34m\u001b[0m\u001b[0m\n\u001b[1;32m   4912\u001b[0m             \u001b[0minplace\u001b[0m\u001b[0;34m=\u001b[0m\u001b[0minplace\u001b[0m\u001b[0;34m,\u001b[0m\u001b[0;34m\u001b[0m\u001b[0;34m\u001b[0m\u001b[0m\n\u001b[0;32m-> 4913\u001b[0;31m             \u001b[0merrors\u001b[0m\u001b[0;34m=\u001b[0m\u001b[0merrors\u001b[0m\u001b[0;34m,\u001b[0m\u001b[0;34m\u001b[0m\u001b[0;34m\u001b[0m\u001b[0m\n\u001b[0m\u001b[1;32m   4914\u001b[0m         )\n\u001b[1;32m   4915\u001b[0m \u001b[0;34m\u001b[0m\u001b[0m\n",
            "\u001b[0;32m/usr/local/lib/python3.7/dist-packages/pandas/core/generic.py\u001b[0m in \u001b[0;36mdrop\u001b[0;34m(self, labels, axis, index, columns, level, inplace, errors)\u001b[0m\n\u001b[1;32m   4148\u001b[0m         \u001b[0;32mfor\u001b[0m \u001b[0maxis\u001b[0m\u001b[0;34m,\u001b[0m \u001b[0mlabels\u001b[0m \u001b[0;32min\u001b[0m \u001b[0maxes\u001b[0m\u001b[0;34m.\u001b[0m\u001b[0mitems\u001b[0m\u001b[0;34m(\u001b[0m\u001b[0;34m)\u001b[0m\u001b[0;34m:\u001b[0m\u001b[0;34m\u001b[0m\u001b[0;34m\u001b[0m\u001b[0m\n\u001b[1;32m   4149\u001b[0m             \u001b[0;32mif\u001b[0m \u001b[0mlabels\u001b[0m \u001b[0;32mis\u001b[0m \u001b[0;32mnot\u001b[0m \u001b[0;32mNone\u001b[0m\u001b[0;34m:\u001b[0m\u001b[0;34m\u001b[0m\u001b[0;34m\u001b[0m\u001b[0m\n\u001b[0;32m-> 4150\u001b[0;31m                 \u001b[0mobj\u001b[0m \u001b[0;34m=\u001b[0m \u001b[0mobj\u001b[0m\u001b[0;34m.\u001b[0m\u001b[0m_drop_axis\u001b[0m\u001b[0;34m(\u001b[0m\u001b[0mlabels\u001b[0m\u001b[0;34m,\u001b[0m \u001b[0maxis\u001b[0m\u001b[0;34m,\u001b[0m \u001b[0mlevel\u001b[0m\u001b[0;34m=\u001b[0m\u001b[0mlevel\u001b[0m\u001b[0;34m,\u001b[0m \u001b[0merrors\u001b[0m\u001b[0;34m=\u001b[0m\u001b[0merrors\u001b[0m\u001b[0;34m)\u001b[0m\u001b[0;34m\u001b[0m\u001b[0;34m\u001b[0m\u001b[0m\n\u001b[0m\u001b[1;32m   4151\u001b[0m \u001b[0;34m\u001b[0m\u001b[0m\n\u001b[1;32m   4152\u001b[0m         \u001b[0;32mif\u001b[0m \u001b[0minplace\u001b[0m\u001b[0;34m:\u001b[0m\u001b[0;34m\u001b[0m\u001b[0;34m\u001b[0m\u001b[0m\n",
            "\u001b[0;32m/usr/local/lib/python3.7/dist-packages/pandas/core/generic.py\u001b[0m in \u001b[0;36m_drop_axis\u001b[0;34m(self, labels, axis, level, errors)\u001b[0m\n\u001b[1;32m   4183\u001b[0m                 \u001b[0mnew_axis\u001b[0m \u001b[0;34m=\u001b[0m \u001b[0maxis\u001b[0m\u001b[0;34m.\u001b[0m\u001b[0mdrop\u001b[0m\u001b[0;34m(\u001b[0m\u001b[0mlabels\u001b[0m\u001b[0;34m,\u001b[0m \u001b[0mlevel\u001b[0m\u001b[0;34m=\u001b[0m\u001b[0mlevel\u001b[0m\u001b[0;34m,\u001b[0m \u001b[0merrors\u001b[0m\u001b[0;34m=\u001b[0m\u001b[0merrors\u001b[0m\u001b[0;34m)\u001b[0m\u001b[0;34m\u001b[0m\u001b[0;34m\u001b[0m\u001b[0m\n\u001b[1;32m   4184\u001b[0m             \u001b[0;32melse\u001b[0m\u001b[0;34m:\u001b[0m\u001b[0;34m\u001b[0m\u001b[0;34m\u001b[0m\u001b[0m\n\u001b[0;32m-> 4185\u001b[0;31m                 \u001b[0mnew_axis\u001b[0m \u001b[0;34m=\u001b[0m \u001b[0maxis\u001b[0m\u001b[0;34m.\u001b[0m\u001b[0mdrop\u001b[0m\u001b[0;34m(\u001b[0m\u001b[0mlabels\u001b[0m\u001b[0;34m,\u001b[0m \u001b[0merrors\u001b[0m\u001b[0;34m=\u001b[0m\u001b[0merrors\u001b[0m\u001b[0;34m)\u001b[0m\u001b[0;34m\u001b[0m\u001b[0;34m\u001b[0m\u001b[0m\n\u001b[0m\u001b[1;32m   4186\u001b[0m             \u001b[0mresult\u001b[0m \u001b[0;34m=\u001b[0m \u001b[0mself\u001b[0m\u001b[0;34m.\u001b[0m\u001b[0mreindex\u001b[0m\u001b[0;34m(\u001b[0m\u001b[0;34m**\u001b[0m\u001b[0;34m{\u001b[0m\u001b[0maxis_name\u001b[0m\u001b[0;34m:\u001b[0m \u001b[0mnew_axis\u001b[0m\u001b[0;34m}\u001b[0m\u001b[0;34m)\u001b[0m\u001b[0;34m\u001b[0m\u001b[0;34m\u001b[0m\u001b[0m\n\u001b[1;32m   4187\u001b[0m \u001b[0;34m\u001b[0m\u001b[0m\n",
            "\u001b[0;32m/usr/local/lib/python3.7/dist-packages/pandas/core/indexes/base.py\u001b[0m in \u001b[0;36mdrop\u001b[0;34m(self, labels, errors)\u001b[0m\n\u001b[1;32m   6015\u001b[0m         \u001b[0;32mif\u001b[0m \u001b[0mmask\u001b[0m\u001b[0;34m.\u001b[0m\u001b[0many\u001b[0m\u001b[0;34m(\u001b[0m\u001b[0;34m)\u001b[0m\u001b[0;34m:\u001b[0m\u001b[0;34m\u001b[0m\u001b[0;34m\u001b[0m\u001b[0m\n\u001b[1;32m   6016\u001b[0m             \u001b[0;32mif\u001b[0m \u001b[0merrors\u001b[0m \u001b[0;34m!=\u001b[0m \u001b[0;34m\"ignore\"\u001b[0m\u001b[0;34m:\u001b[0m\u001b[0;34m\u001b[0m\u001b[0;34m\u001b[0m\u001b[0m\n\u001b[0;32m-> 6017\u001b[0;31m                 \u001b[0;32mraise\u001b[0m \u001b[0mKeyError\u001b[0m\u001b[0;34m(\u001b[0m\u001b[0;34mf\"{labels[mask]} not found in axis\"\u001b[0m\u001b[0;34m)\u001b[0m\u001b[0;34m\u001b[0m\u001b[0;34m\u001b[0m\u001b[0m\n\u001b[0m\u001b[1;32m   6018\u001b[0m             \u001b[0mindexer\u001b[0m \u001b[0;34m=\u001b[0m \u001b[0mindexer\u001b[0m\u001b[0;34m[\u001b[0m\u001b[0;34m~\u001b[0m\u001b[0mmask\u001b[0m\u001b[0;34m]\u001b[0m\u001b[0;34m\u001b[0m\u001b[0;34m\u001b[0m\u001b[0m\n\u001b[1;32m   6019\u001b[0m         \u001b[0;32mreturn\u001b[0m \u001b[0mself\u001b[0m\u001b[0;34m.\u001b[0m\u001b[0mdelete\u001b[0m\u001b[0;34m(\u001b[0m\u001b[0mindexer\u001b[0m\u001b[0;34m)\u001b[0m\u001b[0;34m\u001b[0m\u001b[0;34m\u001b[0m\u001b[0m\n",
            "\u001b[0;31mKeyError\u001b[0m: \"['Country'] not found in axis\""
          ]
        }
      ]
    },
    {
      "cell_type": "markdown",
      "source": [
        "The unnamed column was dropped because there was no information on what the data in the column represented."
      ],
      "metadata": {
        "id": "1RqTeGhwyVr2"
      }
    },
    {
      "cell_type": "code",
      "source": [
        "# Checking for the outliers.\n",
        "Affairs.boxplot(figsize=(8,10),color='purple')"
      ],
      "metadata": {
        "id": "Kgi78-iTJ-7t",
        "colab": {
          "base_uri": "https://localhost:8080/",
          "height": 432
        },
        "outputId": "1673642d-952e-4f30-f8f1-15fb1b48f539"
      },
      "execution_count": null,
      "outputs": [
        {
          "output_type": "execute_result",
          "data": {
            "text/plain": [
              "<matplotlib.axes._subplots.AxesSubplot at 0x7f23d94858d0>"
            ]
          },
          "metadata": {},
          "execution_count": 128
        },
        {
          "output_type": "display_data",
          "data": {
            "text/plain": [
              "<Figure size 576x720 with 1 Axes>"
            ],
            "image/png": "[encoded data removed]"
          },
          "metadata": {
            "needs_background": "light"
          }
        }
      ]
    },
    {
      "cell_type": "markdown",
      "source": [
        "From the above visualisation we can see that the dataset's outliers give insight on the affairs, number of years married for each respondent, age, education, occupation and rating.\n",
        "\n",
        "**Observations**\n",
        "* Most of the respondents record no marital affairs\n",
        "* Most respondents have been married for less than 10 years\n",
        "* Most of the respondent interviewed are above the age of 30\n",
        "* The rest of the numerical values are code for a particular category therefore we'll get more information while doing the EDA."
      ],
      "metadata": {
        "id": "JFHsDaiszJ-V"
      }
    },
    {
      "cell_type": "code",
      "source": [
        "# Identify the missing data\n",
        "Affairs.isnull().sum()"
      ],
      "metadata": {
        "id": "Rbs1X9fxPV5D",
        "colab": {
          "base_uri": "https://localhost:8080/"
        },
        "outputId": "2e1bb3d4-ed75-4460-9bf4-bf3ad780799d"
      },
      "execution_count": null,
      "outputs": [
        {
          "output_type": "execute_result",
          "data": {
            "text/plain": [
              "Unnamed: 0       0\n",
              "affairs          0\n",
              "gender           0\n",
              "age              0\n",
              "yearsmarried     0\n",
              "children         1\n",
              "religiousness    0\n",
              "education        0\n",
              "occupation       0\n",
              "rating           0\n",
              "dtype: int64"
            ]
          },
          "metadata": {},
          "execution_count": 129
        }
      ]
    },
    {
      "cell_type": "markdown",
      "source": [
        "No null values found in the dataset."
      ],
      "metadata": {
        "id": "7K1ualGfPh4O"
      }
    },
    {
      "cell_type": "code",
      "source": [
        "# Checking whether the columns are well named for ease of use\n",
        "Affairs.columns"
      ],
      "metadata": {
        "id": "6RQpgPSiP7z2",
        "colab": {
          "base_uri": "https://localhost:8080/"
        },
        "outputId": "7d5403c7-406b-4d71-8cb7-abf61bd38c6b"
      },
      "execution_count": null,
      "outputs": [
        {
          "output_type": "execute_result",
          "data": {
            "text/plain": [
              "Index(['Unnamed: 0', 'affairs', 'gender', 'age', 'yearsmarried', 'children',\n",
              "       'religiousness', 'education', 'occupation', 'rating'],\n",
              "      dtype='object')"
            ]
          },
          "metadata": {},
          "execution_count": 130
        }
      ]
    },
    {
      "cell_type": "markdown",
      "source": [
        "The columns are relatively well named"
      ],
      "metadata": {
        "id": "91xYbg0NQA-e"
      }
    },
    {
      "cell_type": "markdown",
      "source": [
        "# Exploratory Data Analysis"
      ],
      "metadata": {
        "id": "ETwmxyBFQpl4"
      }
    },
    {
      "cell_type": "code",
      "source": [
        "# previewing the dataset once more\n",
        "Affairs.head(3)"
      ],
      "metadata": {
        "id": "eeDlOwZHRY7S",
        "colab": {
          "base_uri": "https://localhost:8080/",
          "height": 225
        },
        "outputId": "6969378e-d5a9-4e7f-98bd-519b30dc3191"
      },
      "execution_count": null,
      "outputs": [
        {
          "output_type": "execute_result",
          "data": {
            "text/plain": [
              "   Unnamed: 0  affairs  gender   age  yearsmarried children  religiousness  \\\n",
              "0           4        0    male  37.0          10.0       no              3   \n",
              "1           5        0  female  27.0           4.0       no              4   \n",
              "2          11        0  female  32.0          15.0      yes              1   \n",
              "\n",
              "   education  occupation  rating  \n",
              "0         18           7       4  \n",
              "1         14           6       4  \n",
              "2         12           1       4  "
            ],
            "text/html": [
              "\n",
              "  <div id=\"df-bc58fb6d-4212-4d02-b0f1-d3a734a7fff2\">\n",
              "    <div class=\"colab-df-container\">\n",
              "      <div>\n",
              "<style scoped>\n",
              "    .dataframe tbody tr th:only-of-type {\n",
              "        vertical-align: middle;\n",
              "    }\n",
              "\n",
              "    .dataframe tbody tr th {\n",
              "        vertical-align: top;\n",
              "    }\n",
              "\n",
              "    .dataframe thead th {\n",
              "        text-align: right;\n",
              "    }\n",
              "</style>\n",
              "<table border=\"1\" class=\"dataframe\">\n",
              "  <thead>\n",
              "    <tr style=\"text-align: right;\">\n",
              "      <th></th>\n",
              "      <th>Unnamed: 0</th>\n",
              "      <th>affairs</th>\n",
              "      <th>gender</th>\n",
              "      <th>age</th>\n",
              "      <th>yearsmarried</th>\n",
              "      <th>children</th>\n",
              "      <th>religiousness</th>\n",
              "      <th>education</th>\n",
              "      <th>occupation</th>\n",
              "      <th>rating</th>\n",
              "    </tr>\n",
              "  </thead>\n",
              "  <tbody>\n",
              "    <tr>\n",
              "      <th>0</th>\n",
              "      <td>4</td>\n",
              "      <td>0</td>\n",
              "      <td>male</td>\n",
              "      <td>37.0</td>\n",
              "      <td>10.0</td>\n",
              "      <td>no</td>\n",
              "      <td>3</td>\n",
              "      <td>18</td>\n",
              "      <td>7</td>\n",
              "      <td>4</td>\n",
              "    </tr>\n",
              "    <tr>\n",
              "      <th>1</th>\n",
              "      <td>5</td>\n",
              "      <td>0</td>\n",
              "      <td>female</td>\n",
              "      <td>27.0</td>\n",
              "      <td>4.0</td>\n",
              "      <td>no</td>\n",
              "      <td>4</td>\n",
              "      <td>14</td>\n",
              "      <td>6</td>\n",
              "      <td>4</td>\n",
              "    </tr>\n",
              "    <tr>\n",
              "      <th>2</th>\n",
              "      <td>11</td>\n",
              "      <td>0</td>\n",
              "      <td>female</td>\n",
              "      <td>32.0</td>\n",
              "      <td>15.0</td>\n",
              "      <td>yes</td>\n",
              "      <td>1</td>\n",
              "      <td>12</td>\n",
              "      <td>1</td>\n",
              "      <td>4</td>\n",
              "    </tr>\n",
              "  </tbody>\n",
              "</table>\n",
              "</div>\n",
              "      <button class=\"colab-df-convert\" onclick=\"convertToInteractive('df-bc58fb6d-4212-4d02-b0f1-d3a734a7fff2')\"\n",
              "              title=\"Convert this dataframe to an interactive table.\"\n",
              "              style=\"display:none;\">\n",
              "        \n",
              "  <svg xmlns=\"http://www.w3.org/2000/svg\" height=\"24px\"viewBox=\"0 0 24 24\"\n",
              "       width=\"24px\">\n",
              "    <path d=\"M0 0h24v24H0V0z\" fill=\"none\"/>\n",
              "    <path d=\"M18.56 5.44l.94 2.06.94-2.06 2.06-.94-2.06-.94-.94-2.06-.94 2.06-2.06.94zm-11 1L8.5 8.5l.94-2.06 2.06-.94-2.06-.94L8.5 2.5l-.94 2.06-2.06.94zm10 10l.94 2.06.94-2.06 2.06-.94-2.06-.94-.94-2.06-.94 2.06-2.06.94z\"/><path d=\"M17.41 7.96l-1.37-1.37c-.4-.4-.92-.59-1.43-.59-.52 0-1.04.2-1.43.59L10.3 9.45l-7.72 7.72c-.78.78-.78 2.05 0 2.83L4 21.41c.39.39.9.59 1.41.59.51 0 1.02-.2 1.41-.59l7.78-7.78 2.81-2.81c.8-.78.8-2.07 0-2.86zM5.41 20L4 18.59l7.72-7.72 1.47 1.35L5.41 20z\"/>\n",
              "  </svg>\n",
              "      </button>\n",
              "      \n",
              "  <style>\n",
              "    .colab-df-container {\n",
              "      display:flex;\n",
              "      flex-wrap:wrap;\n",
              "      gap: 12px;\n",
              "    }\n",
              "\n",
              "    .colab-df-convert {\n",
              "      background-color: #E8F0FE;\n",
              "      border: none;\n",
              "      border-radius: 50%;\n",
              "      cursor: pointer;\n",
              "      display: none;\n",
              "      fill: #1967D2;\n",
              "      height: 32px;\n",
              "      padding: 0 0 0 0;\n",
              "      width: 32px;\n",
              "    }\n",
              "\n",
              "    .colab-df-convert:hover {\n",
              "      background-color: #E2EBFA;\n",
              "      box-shadow: 0px 1px 2px rgba(60, 64, 67, 0.3), 0px 1px 3px 1px rgba(60, 64, 67, 0.15);\n",
              "      fill: #174EA6;\n",
              "    }\n",
              "\n",
              "    [theme=dark] .colab-df-convert {\n",
              "      background-color: #3B4455;\n",
              "      fill: #D2E3FC;\n",
              "    }\n",
              "\n",
              "    [theme=dark] .colab-df-convert:hover {\n",
              "      background-color: #434B5C;\n",
              "      box-shadow: 0px 1px 3px 1px rgba(0, 0, 0, 0.15);\n",
              "      filter: drop-shadow(0px 1px 2px rgba(0, 0, 0, 0.3));\n",
              "      fill: #FFFFFF;\n",
              "    }\n",
              "  </style>\n",
              "\n",
              "      <script>\n",
              "        const buttonEl =\n",
              "          document.querySelector('#df-bc58fb6d-4212-4d02-b0f1-d3a734a7fff2 button.colab-df-convert');\n",
              "        buttonEl.style.display =\n",
              "          google.colab.kernel.accessAllowed ? 'block' : 'none';\n",
              "\n",
              "        async function convertToInteractive(key) {\n",
              "          const element = document.querySelector('#df-bc58fb6d-4212-4d02-b0f1-d3a734a7fff2');\n",
              "          const dataTable =\n",
              "            await google.colab.kernel.invokeFunction('convertToInteractive',\n",
              "                                                     [key], {});\n",
              "          if (!dataTable) return;\n",
              "\n",
              "          const docLinkHtml = 'Like what you see? Visit the ' +\n",
              "            '<a target=\"_blank\" href=https://colab.research.google.com/notebooks/data_table.ipynb>data table notebook</a>'\n",
              "            + ' to learn more about interactive tables.';\n",
              "          element.innerHTML = '';\n",
              "          dataTable['output_type'] = 'display_data';\n",
              "          await google.colab.output.renderOutput(dataTable, element);\n",
              "          const docLink = document.createElement('div');\n",
              "          docLink.innerHTML = docLinkHtml;\n",
              "          element.appendChild(docLink);\n",
              "        }\n",
              "      </script>\n",
              "    </div>\n",
              "  </div>\n",
              "  "
            ]
          },
          "metadata": {},
          "execution_count": 131
        }
      ]
    },
    {
      "cell_type": "markdown",
      "source": [
        "# Descriptive statistics"
      ],
      "metadata": {
        "id": "MApcxcvoUNOu"
      }
    },
    {
      "cell_type": "code",
      "source": [
        "# Getting the count, mean, standard variation, min, max and quatiles of the columns in the dataset\n",
        "Affairs.describe()"
      ],
      "metadata": {
        "id": "p6PV3eLXUhT2",
        "colab": {
          "base_uri": "https://localhost:8080/",
          "height": 364
        },
        "outputId": "bc5b28c0-89f9-4940-c5fc-5bb1825f8914"
      },
      "execution_count": null,
      "outputs": [
        {
          "output_type": "execute_result",
          "data": {
            "text/plain": [
              "        Unnamed: 0     affairs         age  yearsmarried  religiousness  \\\n",
              "count   601.000000  601.000000  601.000000    601.000000     601.000000   \n",
              "mean   1059.722130    1.455907   32.487521      8.177696       3.116473   \n",
              "std     914.904611    3.298758    9.288762      5.571303       1.167509   \n",
              "min       4.000000    0.000000   17.500000      0.125000       1.000000   \n",
              "25%     528.000000    0.000000   27.000000      4.000000       2.000000   \n",
              "50%    1009.000000    0.000000   32.000000      7.000000       3.000000   \n",
              "75%    1453.000000    0.000000   37.000000     15.000000       4.000000   \n",
              "max    9029.000000   12.000000   57.000000     15.000000       5.000000   \n",
              "\n",
              "        education  occupation      rating  \n",
              "count  601.000000  601.000000  601.000000  \n",
              "mean    16.166389    4.194676    3.931780  \n",
              "std      2.402555    1.819443    1.103179  \n",
              "min      9.000000    1.000000    1.000000  \n",
              "25%     14.000000    3.000000    3.000000  \n",
              "50%     16.000000    5.000000    4.000000  \n",
              "75%     18.000000    6.000000    5.000000  \n",
              "max     20.000000    7.000000    5.000000  "
            ],
            "text/html": [
              "\n",
              "  <div id=\"df-30d6489c-8e2f-4724-bce3-8c8e2e1442e1\">\n",
              "    <div class=\"colab-df-container\">\n",
              "      <div>\n",
              "<style scoped>\n",
              "    .dataframe tbody tr th:only-of-type {\n",
              "        vertical-align: middle;\n",
              "    }\n",
              "\n",
              "    .dataframe tbody tr th {\n",
              "        vertical-align: top;\n",
              "    }\n",
              "\n",
              "    .dataframe thead th {\n",
              "        text-align: right;\n",
              "    }\n",
              "</style>\n",
              "<table border=\"1\" class=\"dataframe\">\n",
              "  <thead>\n",
              "    <tr style=\"text-align: right;\">\n",
              "      <th></th>\n",
              "      <th>Unnamed: 0</th>\n",
              "      <th>affairs</th>\n",
              "      <th>age</th>\n",
              "      <th>yearsmarried</th>\n",
              "      <th>religiousness</th>\n",
              "      <th>education</th>\n",
              "      <th>occupation</th>\n",
              "      <th>rating</th>\n",
              "    </tr>\n",
              "  </thead>\n",
              "  <tbody>\n",
              "    <tr>\n",
              "      <th>count</th>\n",
              "      <td>601.000000</td>\n",
              "      <td>601.000000</td>\n",
              "      <td>601.000000</td>\n",
              "      <td>601.000000</td>\n",
              "      <td>601.000000</td>\n",
              "      <td>601.000000</td>\n",
              "      <td>601.000000</td>\n",
              "      <td>601.000000</td>\n",
              "    </tr>\n",
              "    <tr>\n",
              "      <th>mean</th>\n",
              "      <td>1059.722130</td>\n",
              "      <td>1.455907</td>\n",
              "      <td>32.487521</td>\n",
              "      <td>8.177696</td>\n",
              "      <td>3.116473</td>\n",
              "      <td>16.166389</td>\n",
              "      <td>4.194676</td>\n",
              "      <td>3.931780</td>\n",
              "    </tr>\n",
              "    <tr>\n",
              "      <th>std</th>\n",
              "      <td>914.904611</td>\n",
              "      <td>3.298758</td>\n",
              "      <td>9.288762</td>\n",
              "      <td>5.571303</td>\n",
              "      <td>1.167509</td>\n",
              "      <td>2.402555</td>\n",
              "      <td>1.819443</td>\n",
              "      <td>1.103179</td>\n",
              "    </tr>\n",
              "    <tr>\n",
              "      <th>min</th>\n",
              "      <td>4.000000</td>\n",
              "      <td>0.000000</td>\n",
              "      <td>17.500000</td>\n",
              "      <td>0.125000</td>\n",
              "      <td>1.000000</td>\n",
              "      <td>9.000000</td>\n",
              "      <td>1.000000</td>\n",
              "      <td>1.000000</td>\n",
              "    </tr>\n",
              "    <tr>\n",
              "      <th>25%</th>\n",
              "      <td>528.000000</td>\n",
              "      <td>0.000000</td>\n",
              "      <td>27.000000</td>\n",
              "      <td>4.000000</td>\n",
              "      <td>2.000000</td>\n",
              "      <td>14.000000</td>\n",
              "      <td>3.000000</td>\n",
              "      <td>3.000000</td>\n",
              "    </tr>\n",
              "    <tr>\n",
              "      <th>50%</th>\n",
              "      <td>1009.000000</td>\n",
              "      <td>0.000000</td>\n",
              "      <td>32.000000</td>\n",
              "      <td>7.000000</td>\n",
              "      <td>3.000000</td>\n",
              "      <td>16.000000</td>\n",
              "      <td>5.000000</td>\n",
              "      <td>4.000000</td>\n",
              "    </tr>\n",
              "    <tr>\n",
              "      <th>75%</th>\n",
              "      <td>1453.000000</td>\n",
              "      <td>0.000000</td>\n",
              "      <td>37.000000</td>\n",
              "      <td>15.000000</td>\n",
              "      <td>4.000000</td>\n",
              "      <td>18.000000</td>\n",
              "      <td>6.000000</td>\n",
              "      <td>5.000000</td>\n",
              "    </tr>\n",
              "    <tr>\n",
              "      <th>max</th>\n",
              "      <td>9029.000000</td>\n",
              "      <td>12.000000</td>\n",
              "      <td>57.000000</td>\n",
              "      <td>15.000000</td>\n",
              "      <td>5.000000</td>\n",
              "      <td>20.000000</td>\n",
              "      <td>7.000000</td>\n",
              "      <td>5.000000</td>\n",
              "    </tr>\n",
              "  </tbody>\n",
              "</table>\n",
              "</div>\n",
              "      <button class=\"colab-df-convert\" onclick=\"convertToInteractive('df-30d6489c-8e2f-4724-bce3-8c8e2e1442e1')\"\n",
              "              title=\"Convert this dataframe to an interactive table.\"\n",
              "              style=\"display:none;\">\n",
              "        \n",
              "  <svg xmlns=\"http://www.w3.org/2000/svg\" height=\"24px\"viewBox=\"0 0 24 24\"\n",
              "       width=\"24px\">\n",
              "    <path d=\"M0 0h24v24H0V0z\" fill=\"none\"/>\n",
              "    <path d=\"M18.56 5.44l.94 2.06.94-2.06 2.06-.94-2.06-.94-.94-2.06-.94 2.06-2.06.94zm-11 1L8.5 8.5l.94-2.06 2.06-.94-2.06-.94L8.5 2.5l-.94 2.06-2.06.94zm10 10l.94 2.06.94-2.06 2.06-.94-2.06-.94-.94-2.06-.94 2.06-2.06.94z\"/><path d=\"M17.41 7.96l-1.37-1.37c-.4-.4-.92-.59-1.43-.59-.52 0-1.04.2-1.43.59L10.3 9.45l-7.72 7.72c-.78.78-.78 2.05 0 2.83L4 21.41c.39.39.9.59 1.41.59.51 0 1.02-.2 1.41-.59l7.78-7.78 2.81-2.81c.8-.78.8-2.07 0-2.86zM5.41 20L4 18.59l7.72-7.72 1.47 1.35L5.41 20z\"/>\n",
              "  </svg>\n",
              "      </button>\n",
              "      \n",
              "  <style>\n",
              "    .colab-df-container {\n",
              "      display:flex;\n",
              "      flex-wrap:wrap;\n",
              "      gap: 12px;\n",
              "    }\n",
              "\n",
              "    .colab-df-convert {\n",
              "      background-color: #E8F0FE;\n",
              "      border: none;\n",
              "      border-radius: 50%;\n",
              "      cursor: pointer;\n",
              "      display: none;\n",
              "      fill: #1967D2;\n",
              "      height: 32px;\n",
              "      padding: 0 0 0 0;\n",
              "      width: 32px;\n",
              "    }\n",
              "\n",
              "    .colab-df-convert:hover {\n",
              "      background-color: #E2EBFA;\n",
              "      box-shadow: 0px 1px 2px rgba(60, 64, 67, 0.3), 0px 1px 3px 1px rgba(60, 64, 67, 0.15);\n",
              "      fill: #174EA6;\n",
              "    }\n",
              "\n",
              "    [theme=dark] .colab-df-convert {\n",
              "      background-color: #3B4455;\n",
              "      fill: #D2E3FC;\n",
              "    }\n",
              "\n",
              "    [theme=dark] .colab-df-convert:hover {\n",
              "      background-color: #434B5C;\n",
              "      box-shadow: 0px 1px 3px 1px rgba(0, 0, 0, 0.15);\n",
              "      filter: drop-shadow(0px 1px 2px rgba(0, 0, 0, 0.3));\n",
              "      fill: #FFFFFF;\n",
              "    }\n",
              "  </style>\n",
              "\n",
              "      <script>\n",
              "        const buttonEl =\n",
              "          document.querySelector('#df-30d6489c-8e2f-4724-bce3-8c8e2e1442e1 button.colab-df-convert');\n",
              "        buttonEl.style.display =\n",
              "          google.colab.kernel.accessAllowed ? 'block' : 'none';\n",
              "\n",
              "        async function convertToInteractive(key) {\n",
              "          const element = document.querySelector('#df-30d6489c-8e2f-4724-bce3-8c8e2e1442e1');\n",
              "          const dataTable =\n",
              "            await google.colab.kernel.invokeFunction('convertToInteractive',\n",
              "                                                     [key], {});\n",
              "          if (!dataTable) return;\n",
              "\n",
              "          const docLinkHtml = 'Like what you see? Visit the ' +\n",
              "            '<a target=\"_blank\" href=https://colab.research.google.com/notebooks/data_table.ipynb>data table notebook</a>'\n",
              "            + ' to learn more about interactive tables.';\n",
              "          element.innerHTML = '';\n",
              "          dataTable['output_type'] = 'display_data';\n",
              "          await google.colab.output.renderOutput(dataTable, element);\n",
              "          const docLink = document.createElement('div');\n",
              "          docLink.innerHTML = docLinkHtml;\n",
              "          element.appendChild(docLink);\n",
              "        }\n",
              "      </script>\n",
              "    </div>\n",
              "  </div>\n",
              "  "
            ]
          },
          "metadata": {},
          "execution_count": 132
        }
      ]
    },
    {
      "cell_type": "markdown",
      "source": [
        "**Observtions**\n",
        "* the mean of <font color='green'>*age* </font>is almost equal to the median which means there are no altering outliers as we had already established\n",
        "* the mean of <font color='green'>*years married* </font> is greater than the median therefore the distribution is positively skewed"
      ],
      "metadata": {
        "id": "zzPqTfdRUsYd"
      }
    },
    {
      "cell_type": "code",
      "source": [
        "# Confirming the skew observation\n",
        "Affairs['yearsmarried'].skew()"
      ],
      "metadata": {
        "id": "toj8jrrM2nN0",
        "colab": {
          "base_uri": "https://localhost:8080/"
        },
        "outputId": "ad2f6960-b798-449e-b6e9-777753873c54"
      },
      "execution_count": null,
      "outputs": [
        {
          "output_type": "execute_result",
          "data": {
            "text/plain": [
              "0.07818880071681064"
            ]
          },
          "metadata": {},
          "execution_count": 133
        }
      ]
    },
    {
      "cell_type": "markdown",
      "source": [
        "The result concurs with the above statement. It is slightly positively skewed"
      ],
      "metadata": {
        "id": "PetQlPfw3aXA"
      }
    },
    {
      "cell_type": "code",
      "source": [
        "# finding out how the individuals rate their marriages\n",
        "# 1 = very poor, 2 = poor, 3 = fair, 4 = good, 5 = very good\n",
        "#\n",
        "Affairs[\"rating\"].value_counts()"
      ],
      "metadata": {
        "id": "itWAOtUVUvNd",
        "colab": {
          "base_uri": "https://localhost:8080/"
        },
        "outputId": "287b2ca7-9005-4f24-e3e4-e2d69187db22"
      },
      "execution_count": null,
      "outputs": [
        {
          "output_type": "execute_result",
          "data": {
            "text/plain": [
              "5    232\n",
              "4    194\n",
              "3     93\n",
              "2     66\n",
              "1     16\n",
              "Name: rating, dtype: int64"
            ]
          },
          "metadata": {},
          "execution_count": 134
        }
      ]
    },
    {
      "cell_type": "markdown",
      "source": [
        "**Observations**\n",
        "\n",
        "* Most of the individuals rate their marriage as very good, good, fair, poor and very poor respectively"
      ],
      "metadata": {
        "id": "2mK9h_e43810"
      }
    },
    {
      "cell_type": "code",
      "source": [
        "# Article used to calculate the average income for each category\n",
        "# link: http://www.worldsalaries.org/usa.shtml\n",
        "\n",
        "# create a list of our conditions\n",
        "conditions = [\n",
        "    (Affairs[\"occupation\"] == 1),\n",
        "    (Affairs[\"occupation\"] == 2),\n",
        "    (Affairs[\"occupation\"] == 3),\n",
        "    (Affairs[\"occupation\"] == 4),\n",
        "    (Affairs[\"occupation\"] == 5),\n",
        "    (Affairs[\"occupation\"] == 6),\n",
        "    (Affairs[\"occupation\"] == 7)\n",
        "    ]\n",
        "\n",
        "# create a list of the values we want to assign for each condition\n",
        "values = [3000, 3300, 3800, 4200, 4950, 5200, 10000]\n",
        "\n",
        "# create a new column and use np.select to assign values to it using our lists as arguments\n",
        "Affairs['income'] = np.select(conditions, values)\n",
        "\n",
        "# display updated DataFrame\n",
        "Affairs.head()"
      ],
      "metadata": {
        "id": "_EcTzScXSBmc",
        "colab": {
          "base_uri": "https://localhost:8080/",
          "height": 287
        },
        "outputId": "f385180b-0aa9-42ef-8617-004ae19faa4f"
      },
      "execution_count": null,
      "outputs": [
        {
          "output_type": "execute_result",
          "data": {
            "text/plain": [
              "   Unnamed: 0  affairs  gender   age  yearsmarried children  religiousness  \\\n",
              "0           4        0    male  37.0         10.00       no              3   \n",
              "1           5        0  female  27.0          4.00       no              4   \n",
              "2          11        0  female  32.0         15.00      yes              1   \n",
              "3          16        0    male  57.0         15.00      yes              5   \n",
              "4          23        0    male  22.0          0.75       no              2   \n",
              "\n",
              "   education  occupation  rating  income  \n",
              "0         18           7       4   10000  \n",
              "1         14           6       4    5200  \n",
              "2         12           1       4    3000  \n",
              "3         18           6       5    5200  \n",
              "4         17           6       3    5200  "
            ],
            "text/html": [
              "\n",
              "  <div id=\"df-affe0986-15f3-4d04-af97-633b7c48b49d\">\n",
              "    <div class=\"colab-df-container\">\n",
              "      <div>\n",
              "<style scoped>\n",
              "    .dataframe tbody tr th:only-of-type {\n",
              "        vertical-align: middle;\n",
              "    }\n",
              "\n",
              "    .dataframe tbody tr th {\n",
              "        vertical-align: top;\n",
              "    }\n",
              "\n",
              "    .dataframe thead th {\n",
              "        text-align: right;\n",
              "    }\n",
              "</style>\n",
              "<table border=\"1\" class=\"dataframe\">\n",
              "  <thead>\n",
              "    <tr style=\"text-align: right;\">\n",
              "      <th></th>\n",
              "      <th>Unnamed: 0</th>\n",
              "      <th>affairs</th>\n",
              "      <th>gender</th>\n",
              "      <th>age</th>\n",
              "      <th>yearsmarried</th>\n",
              "      <th>children</th>\n",
              "      <th>religiousness</th>\n",
              "      <th>education</th>\n",
              "      <th>occupation</th>\n",
              "      <th>rating</th>\n",
              "      <th>income</th>\n",
              "    </tr>\n",
              "  </thead>\n",
              "  <tbody>\n",
              "    <tr>\n",
              "      <th>0</th>\n",
              "      <td>4</td>\n",
              "      <td>0</td>\n",
              "      <td>male</td>\n",
              "      <td>37.0</td>\n",
              "      <td>10.00</td>\n",
              "      <td>no</td>\n",
              "      <td>3</td>\n",
              "      <td>18</td>\n",
              "      <td>7</td>\n",
              "      <td>4</td>\n",
              "      <td>10000</td>\n",
              "    </tr>\n",
              "    <tr>\n",
              "      <th>1</th>\n",
              "      <td>5</td>\n",
              "      <td>0</td>\n",
              "      <td>female</td>\n",
              "      <td>27.0</td>\n",
              "      <td>4.00</td>\n",
              "      <td>no</td>\n",
              "      <td>4</td>\n",
              "      <td>14</td>\n",
              "      <td>6</td>\n",
              "      <td>4</td>\n",
              "      <td>5200</td>\n",
              "    </tr>\n",
              "    <tr>\n",
              "      <th>2</th>\n",
              "      <td>11</td>\n",
              "      <td>0</td>\n",
              "      <td>female</td>\n",
              "      <td>32.0</td>\n",
              "      <td>15.00</td>\n",
              "      <td>yes</td>\n",
              "      <td>1</td>\n",
              "      <td>12</td>\n",
              "      <td>1</td>\n",
              "      <td>4</td>\n",
              "      <td>3000</td>\n",
              "    </tr>\n",
              "    <tr>\n",
              "      <th>3</th>\n",
              "      <td>16</td>\n",
              "      <td>0</td>\n",
              "      <td>male</td>\n",
              "      <td>57.0</td>\n",
              "      <td>15.00</td>\n",
              "      <td>yes</td>\n",
              "      <td>5</td>\n",
              "      <td>18</td>\n",
              "      <td>6</td>\n",
              "      <td>5</td>\n",
              "      <td>5200</td>\n",
              "    </tr>\n",
              "    <tr>\n",
              "      <th>4</th>\n",
              "      <td>23</td>\n",
              "      <td>0</td>\n",
              "      <td>male</td>\n",
              "      <td>22.0</td>\n",
              "      <td>0.75</td>\n",
              "      <td>no</td>\n",
              "      <td>2</td>\n",
              "      <td>17</td>\n",
              "      <td>6</td>\n",
              "      <td>3</td>\n",
              "      <td>5200</td>\n",
              "    </tr>\n",
              "  </tbody>\n",
              "</table>\n",
              "</div>\n",
              "      <button class=\"colab-df-convert\" onclick=\"convertToInteractive('df-affe0986-15f3-4d04-af97-633b7c48b49d')\"\n",
              "              title=\"Convert this dataframe to an interactive table.\"\n",
              "              style=\"display:none;\">\n",
              "        \n",
              "  <svg xmlns=\"http://www.w3.org/2000/svg\" height=\"24px\"viewBox=\"0 0 24 24\"\n",
              "       width=\"24px\">\n",
              "    <path d=\"M0 0h24v24H0V0z\" fill=\"none\"/>\n",
              "    <path d=\"M18.56 5.44l.94 2.06.94-2.06 2.06-.94-2.06-.94-.94-2.06-.94 2.06-2.06.94zm-11 1L8.5 8.5l.94-2.06 2.06-.94-2.06-.94L8.5 2.5l-.94 2.06-2.06.94zm10 10l.94 2.06.94-2.06 2.06-.94-2.06-.94-.94-2.06-.94 2.06-2.06.94z\"/><path d=\"M17.41 7.96l-1.37-1.37c-.4-.4-.92-.59-1.43-.59-.52 0-1.04.2-1.43.59L10.3 9.45l-7.72 7.72c-.78.78-.78 2.05 0 2.83L4 21.41c.39.39.9.59 1.41.59.51 0 1.02-.2 1.41-.59l7.78-7.78 2.81-2.81c.8-.78.8-2.07 0-2.86zM5.41 20L4 18.59l7.72-7.72 1.47 1.35L5.41 20z\"/>\n",
              "  </svg>\n",
              "      </button>\n",
              "      \n",
              "  <style>\n",
              "    .colab-df-container {\n",
              "      display:flex;\n",
              "      flex-wrap:wrap;\n",
              "      gap: 12px;\n",
              "    }\n",
              "\n",
              "    .colab-df-convert {\n",
              "      background-color: #E8F0FE;\n",
              "      border: none;\n",
              "      border-radius: 50%;\n",
              "      cursor: pointer;\n",
              "      display: none;\n",
              "      fill: #1967D2;\n",
              "      height: 32px;\n",
              "      padding: 0 0 0 0;\n",
              "      width: 32px;\n",
              "    }\n",
              "\n",
              "    .colab-df-convert:hover {\n",
              "      background-color: #E2EBFA;\n",
              "      box-shadow: 0px 1px 2px rgba(60, 64, 67, 0.3), 0px 1px 3px 1px rgba(60, 64, 67, 0.15);\n",
              "      fill: #174EA6;\n",
              "    }\n",
              "\n",
              "    [theme=dark] .colab-df-convert {\n",
              "      background-color: #3B4455;\n",
              "      fill: #D2E3FC;\n",
              "    }\n",
              "\n",
              "    [theme=dark] .colab-df-convert:hover {\n",
              "      background-color: #434B5C;\n",
              "      box-shadow: 0px 1px 3px 1px rgba(0, 0, 0, 0.15);\n",
              "      filter: drop-shadow(0px 1px 2px rgba(0, 0, 0, 0.3));\n",
              "      fill: #FFFFFF;\n",
              "    }\n",
              "  </style>\n",
              "\n",
              "      <script>\n",
              "        const buttonEl =\n",
              "          document.querySelector('#df-affe0986-15f3-4d04-af97-633b7c48b49d button.colab-df-convert');\n",
              "        buttonEl.style.display =\n",
              "          google.colab.kernel.accessAllowed ? 'block' : 'none';\n",
              "\n",
              "        async function convertToInteractive(key) {\n",
              "          const element = document.querySelector('#df-affe0986-15f3-4d04-af97-633b7c48b49d');\n",
              "          const dataTable =\n",
              "            await google.colab.kernel.invokeFunction('convertToInteractive',\n",
              "                                                     [key], {});\n",
              "          if (!dataTable) return;\n",
              "\n",
              "          const docLinkHtml = 'Like what you see? Visit the ' +\n",
              "            '<a target=\"_blank\" href=https://colab.research.google.com/notebooks/data_table.ipynb>data table notebook</a>'\n",
              "            + ' to learn more about interactive tables.';\n",
              "          element.innerHTML = '';\n",
              "          dataTable['output_type'] = 'display_data';\n",
              "          await google.colab.output.renderOutput(dataTable, element);\n",
              "          const docLink = document.createElement('div');\n",
              "          docLink.innerHTML = docLinkHtml;\n",
              "          element.appendChild(docLink);\n",
              "        }\n",
              "      </script>\n",
              "    </div>\n",
              "  </div>\n",
              "  "
            ]
          },
          "metadata": {},
          "execution_count": 135
        }
      ]
    },
    {
      "cell_type": "code",
      "source": [
        "# Exporting cleaned dataset to excel\n",
        "\n",
        "Affairs.to_excel('Affairs_final.xlsx')\n"
      ],
      "metadata": {
        "id": "Rzbc9vTdPSmK"
      },
      "execution_count": null,
      "outputs": []
    },
    {
      "cell_type": "markdown",
      "source": [
        "# Univariate Analysis"
      ],
      "metadata": {
        "id": "aQFNbOZ95uOd"
      }
    },
    {
      "cell_type": "code",
      "source": [
        "# finding out the gender disparity in our dataset\n",
        "sns.countplot(data=Affairs, x='gender');\n",
        "plt.title(\"Gender Disparity\");"
      ],
      "metadata": {
        "id": "lp3eaV-aVEpm",
        "colab": {
          "base_uri": "https://localhost:8080/",
          "height": 248
        },
        "outputId": "fb35e95d-b068-4e7a-abdc-575c74bd999b"
      },
      "execution_count": null,
      "outputs": [
        {
          "output_type": "display_data",
          "data": {
            "text/plain": [
              "<Figure size 432x288 with 1 Axes>"
            ],
            "image/png": "[encoded data removed]"
          },
          "metadata": {
            "needs_background": "light"
          }
        }
      ]
    },
    {
      "cell_type": "markdown",
      "source": [
        "There are more female respondents than male therefore we'll have to perform stratified random sampling to avoid bias "
      ],
      "metadata": {
        "id": "EW8ct98K-Znt"
      }
    },
    {
      "cell_type": "code",
      "source": [
        "# finding out what proportion of our dataset has children\n",
        "plt.pie(Affairs['children'].value_counts(normalize=True), labels =Affairs['children'].value_counts().index,colors = ['Green', 'Red'], autopct = '%1.1f%%', shadow = True,explode=(0.2,0), startangle = 140)\n",
        "plt.axis('equal')\n",
        "plt.title('How many Respondents have children?')\n",
        "plt.show()"
      ],
      "metadata": {
        "id": "lcxDpJtU57x8",
        "colab": {
          "base_uri": "https://localhost:8080/",
          "height": 249
        },
        "outputId": "370ce5fd-9cd7-46fb-87f7-3e16454b0c04"
      },
      "execution_count": null,
      "outputs": [
        {
          "output_type": "display_data",
          "data": {
            "text/plain": [
              "<Figure size 432x288 with 1 Axes>"
            ],
            "image/png": "[encoded data removed]"
          },
          "metadata": {}
        }
      ]
    },
    {
      "cell_type": "code",
      "source": [
        "# finding out how long our respondents have been married\n",
        "# Number of years married:\n",
        "# 0.125= 3 months or less \n",
        "# 0.417= 4-6months \n",
        "# 0.75= 6months-1year\n",
        "# 1.5= 1-2years \n",
        "# 4.0= 3-5years\n",
        "# 7.0= 6-8years \n",
        "# 10.0= 9-11yrs \n",
        "# 15.0= 12 or more years\n",
        "sns.countplot(data=Affairs, x='yearsmarried')\n",
        "plt.title(\"Time respondents have been married\")\n",
        "plt.xlabel(\"Number of years married\")\n",
        "plt.show()"
      ],
      "metadata": {
        "id": "dfZJib9e_4Bt",
        "colab": {
          "base_uri": "https://localhost:8080/",
          "height": 248
        },
        "outputId": "6fcc6914-57d8-4642-be75-50c7782ddf59"
      },
      "execution_count": null,
      "outputs": [
        {
          "output_type": "display_data",
          "data": {
            "text/plain": [
              "<Figure size 432x288 with 1 Axes>"
            ],
            "image/png": "[encoded data removed]"
          },
          "metadata": {
            "needs_background": "light"
          }
        }
      ]
    },
    {
      "cell_type": "markdown",
      "source": [
        "* Most of our respondents have been married for 12 or more years\n",
        "* Next most have been married for 3-5 years \n",
        "* The least have been maried for 4-6 months"
      ],
      "metadata": {
        "id": "fAy0SKroBgyR"
      }
    },
    {
      "cell_type": "code",
      "source": [
        "# prompting system to ignore warnings\n",
        "import warnings\n",
        "warnings.simplefilter(action='ignore', category=FutureWarning)\n",
        "# plotting countplots for the rating, affairs, education and occupation categories\n",
        "fig,axes = plt.subplots(2,2, figsize=(10,10))\n",
        "# plt.title(\"Count plots for rating, affairs, education and occupation\")\n",
        "sns.countplot('rating',data=Affairs,ax=axes[0,0])\n",
        "sns.countplot('affairs',data=Affairs,ax=axes[0,1])\n",
        "sns.countplot('education',data=Affairs,ax=axes[1,0])\n",
        "sns.countplot('occupation',data=Affairs,ax=axes[1,1])\n",
        "plt.show()\n"
      ],
      "metadata": {
        "id": "Hbamv5-5X8Jq",
        "colab": {
          "base_uri": "https://localhost:8080/",
          "height": 489
        },
        "outputId": "4cca5e41-0d67-4d58-da8c-6378db7a004c"
      },
      "execution_count": null,
      "outputs": [
        {
          "output_type": "stream",
          "name": "stderr",
          "text": [
            "/usr/local/lib/python3.7/dist-packages/seaborn/_decorators.py:43: FutureWarning: Pass the following variable as a keyword arg: x. From version 0.12, the only valid positional argument will be `data`, and passing other arguments without an explicit keyword will result in an error or misinterpretation.\n",
            "  FutureWarning\n",
            "/usr/local/lib/python3.7/dist-packages/seaborn/_decorators.py:43: FutureWarning: Pass the following variable as a keyword arg: x. From version 0.12, the only valid positional argument will be `data`, and passing other arguments without an explicit keyword will result in an error or misinterpretation.\n",
            "  FutureWarning\n",
            "/usr/local/lib/python3.7/dist-packages/seaborn/_decorators.py:43: FutureWarning: Pass the following variable as a keyword arg: x. From version 0.12, the only valid positional argument will be `data`, and passing other arguments without an explicit keyword will result in an error or misinterpretation.\n",
            "  FutureWarning\n",
            "/usr/local/lib/python3.7/dist-packages/seaborn/_decorators.py:43: FutureWarning: Pass the following variable as a keyword arg: x. From version 0.12, the only valid positional argument will be `data`, and passing other arguments without an explicit keyword will result in an error or misinterpretation.\n",
            "  FutureWarning\n"
          ]
        },
        {
          "output_type": "display_data",
          "data": {
            "text/plain": [
              "<Figure size 720x720 with 4 Axes>"
            ],
            "image/png": "[encoded data removed]"
          },
          "metadata": {
            "needs_background": "light"
          }
        }
      ]
    },
    {
      "cell_type": "markdown",
      "source": [
        "**Affairs**: 0 = none, 1= once, 2=twice, 3=3 times, 7=4-10 times, 12=daily-monthly\n",
        "* Majority of the resopondents reported no occurence of extramarrital affairs within their marriages\n",
        "* The second largest proportion reported occurrence of 4-10 times\n",
        "\n",
        "**Education**: Level of education, 9 = grade school, 12 = high school, 14 = some college, 16 = college graduate, 17 = some graduate school, 20 = advanced degree\n",
        "* respondents with some colledge education are the majority\n",
        "* The least being those ith grade school as their highest education level\n",
        "\n",
        "\n",
        "**occupation** : 1 = student, 2 = farming, agriculture semi-skilled, or unskilled worker; 3 = white-colloar; 4 = teacher, counselor, social worker, nurse; artist, writers;technician, skilled worker, 5 = managerial, administrative, business, 6 = professional with advanced degree\n",
        "\n",
        "* most of the respondents are in managerial and administrative positions as well as business personel\n",
        "* The second largest portion of the respondents are proffessionals with advanced degree\n",
        "* This discovery suggests that majority of the respondents are literate\n",
        "\n",
        "**rating** : How rate marriage, 1 = very poor, 2 = poor, 3 = fair, 4 = good, 5 = very good\n",
        "*  Most of the respondents rated their marriages as very good, good, fair, poor and very poor respectively.\n",
        "* this suggests that majority of the respondents are happy with their marriages."
      ],
      "metadata": {
        "id": "d9GZxIMk9Fmh"
      }
    },
    {
      "cell_type": "markdown",
      "source": [
        "# Bivariate Analysis"
      ],
      "metadata": {
        "id": "gyeUGIrYEo0U"
      }
    },
    {
      "cell_type": "code",
      "source": [
        "# Correlation matrix\n",
        "\n",
        "Affairs.corr()"
      ],
      "metadata": {
        "id": "cmh458SaQnAX",
        "colab": {
          "base_uri": "https://localhost:8080/",
          "height": 412
        },
        "outputId": "d63db966-e21d-47f4-da0f-4c5a49b41ffa"
      },
      "execution_count": null,
      "outputs": [
        {
          "output_type": "execute_result",
          "data": {
            "text/plain": [
              "               Unnamed: 0   affairs       age  yearsmarried  religiousness  \\\n",
              "Unnamed: 0       1.000000 -0.027517  0.021503      0.055778      -0.045637   \n",
              "affairs         -0.027517  1.000000  0.095237      0.186842      -0.144501   \n",
              "age              0.021503  0.095237  1.000000      0.777546       0.193777   \n",
              "yearsmarried     0.055778  0.186842  0.777546      1.000000       0.218261   \n",
              "religiousness   -0.045637 -0.144501  0.193777      0.218261       1.000000   \n",
              "education       -0.056963 -0.002437  0.134596      0.040003      -0.042571   \n",
              "occupation      -0.090716  0.049612  0.166413      0.044592      -0.039722   \n",
              "rating          -0.014382 -0.279512 -0.199000     -0.243119       0.024296   \n",
              "income          -0.095388  0.036341  0.168810      0.066461      -0.029826   \n",
              "\n",
              "               education  occupation    rating    income  \n",
              "Unnamed: 0     -0.056963   -0.090716 -0.014382 -0.095388  \n",
              "affairs        -0.002437    0.049612 -0.279512  0.036341  \n",
              "age             0.134596    0.166413 -0.199000  0.168810  \n",
              "yearsmarried    0.040003    0.044592 -0.243119  0.066461  \n",
              "religiousness  -0.042571   -0.039722  0.024296 -0.029826  \n",
              "education       1.000000    0.533605  0.109303  0.419098  \n",
              "occupation      0.533605    1.000000  0.017422  0.849171  \n",
              "rating          0.109303    0.017422  1.000000 -0.044841  \n",
              "income          0.419098    0.849171 -0.044841  1.000000  "
            ],
            "text/html": [
              "\n",
              "  <div id=\"df-a01e53d0-376c-44c4-8373-e4129539b9ea\">\n",
              "    <div class=\"colab-df-container\">\n",
              "      <div>\n",
              "<style scoped>\n",
              "    .dataframe tbody tr th:only-of-type {\n",
              "        vertical-align: middle;\n",
              "    }\n",
              "\n",
              "    .dataframe tbody tr th {\n",
              "        vertical-align: top;\n",
              "    }\n",
              "\n",
              "    .dataframe thead th {\n",
              "        text-align: right;\n",
              "    }\n",
              "</style>\n",
              "<table border=\"1\" class=\"dataframe\">\n",
              "  <thead>\n",
              "    <tr style=\"text-align: right;\">\n",
              "      <th></th>\n",
              "      <th>Unnamed: 0</th>\n",
              "      <th>affairs</th>\n",
              "      <th>age</th>\n",
              "      <th>yearsmarried</th>\n",
              "      <th>religiousness</th>\n",
              "      <th>education</th>\n",
              "      <th>occupation</th>\n",
              "      <th>rating</th>\n",
              "      <th>income</th>\n",
              "    </tr>\n",
              "  </thead>\n",
              "  <tbody>\n",
              "    <tr>\n",
              "      <th>Unnamed: 0</th>\n",
              "      <td>1.000000</td>\n",
              "      <td>-0.027517</td>\n",
              "      <td>0.021503</td>\n",
              "      <td>0.055778</td>\n",
              "      <td>-0.045637</td>\n",
              "      <td>-0.056963</td>\n",
              "      <td>-0.090716</td>\n",
              "      <td>-0.014382</td>\n",
              "      <td>-0.095388</td>\n",
              "    </tr>\n",
              "    <tr>\n",
              "      <th>affairs</th>\n",
              "      <td>-0.027517</td>\n",
              "      <td>1.000000</td>\n",
              "      <td>0.095237</td>\n",
              "      <td>0.186842</td>\n",
              "      <td>-0.144501</td>\n",
              "      <td>-0.002437</td>\n",
              "      <td>0.049612</td>\n",
              "      <td>-0.279512</td>\n",
              "      <td>0.036341</td>\n",
              "    </tr>\n",
              "    <tr>\n",
              "      <th>age</th>\n",
              "      <td>0.021503</td>\n",
              "      <td>0.095237</td>\n",
              "      <td>1.000000</td>\n",
              "      <td>0.777546</td>\n",
              "      <td>0.193777</td>\n",
              "      <td>0.134596</td>\n",
              "      <td>0.166413</td>\n",
              "      <td>-0.199000</td>\n",
              "      <td>0.168810</td>\n",
              "    </tr>\n",
              "    <tr>\n",
              "      <th>yearsmarried</th>\n",
              "      <td>0.055778</td>\n",
              "      <td>0.186842</td>\n",
              "      <td>0.777546</td>\n",
              "      <td>1.000000</td>\n",
              "      <td>0.218261</td>\n",
              "      <td>0.040003</td>\n",
              "      <td>0.044592</td>\n",
              "      <td>-0.243119</td>\n",
              "      <td>0.066461</td>\n",
              "    </tr>\n",
              "    <tr>\n",
              "      <th>religiousness</th>\n",
              "      <td>-0.045637</td>\n",
              "      <td>-0.144501</td>\n",
              "      <td>0.193777</td>\n",
              "      <td>0.218261</td>\n",
              "      <td>1.000000</td>\n",
              "      <td>-0.042571</td>\n",
              "      <td>-0.039722</td>\n",
              "      <td>0.024296</td>\n",
              "      <td>-0.029826</td>\n",
              "    </tr>\n",
              "    <tr>\n",
              "      <th>education</th>\n",
              "      <td>-0.056963</td>\n",
              "      <td>-0.002437</td>\n",
              "      <td>0.134596</td>\n",
              "      <td>0.040003</td>\n",
              "      <td>-0.042571</td>\n",
              "      <td>1.000000</td>\n",
              "      <td>0.533605</td>\n",
              "      <td>0.109303</td>\n",
              "      <td>0.419098</td>\n",
              "    </tr>\n",
              "    <tr>\n",
              "      <th>occupation</th>\n",
              "      <td>-0.090716</td>\n",
              "      <td>0.049612</td>\n",
              "      <td>0.166413</td>\n",
              "      <td>0.044592</td>\n",
              "      <td>-0.039722</td>\n",
              "      <td>0.533605</td>\n",
              "      <td>1.000000</td>\n",
              "      <td>0.017422</td>\n",
              "      <td>0.849171</td>\n",
              "    </tr>\n",
              "    <tr>\n",
              "      <th>rating</th>\n",
              "      <td>-0.014382</td>\n",
              "      <td>-0.279512</td>\n",
              "      <td>-0.199000</td>\n",
              "      <td>-0.243119</td>\n",
              "      <td>0.024296</td>\n",
              "      <td>0.109303</td>\n",
              "      <td>0.017422</td>\n",
              "      <td>1.000000</td>\n",
              "      <td>-0.044841</td>\n",
              "    </tr>\n",
              "    <tr>\n",
              "      <th>income</th>\n",
              "      <td>-0.095388</td>\n",
              "      <td>0.036341</td>\n",
              "      <td>0.168810</td>\n",
              "      <td>0.066461</td>\n",
              "      <td>-0.029826</td>\n",
              "      <td>0.419098</td>\n",
              "      <td>0.849171</td>\n",
              "      <td>-0.044841</td>\n",
              "      <td>1.000000</td>\n",
              "    </tr>\n",
              "  </tbody>\n",
              "</table>\n",
              "</div>\n",
              "      <button class=\"colab-df-convert\" onclick=\"convertToInteractive('df-a01e53d0-376c-44c4-8373-e4129539b9ea')\"\n",
              "              title=\"Convert this dataframe to an interactive table.\"\n",
              "              style=\"display:none;\">\n",
              "        \n",
              "  <svg xmlns=\"http://www.w3.org/2000/svg\" height=\"24px\"viewBox=\"0 0 24 24\"\n",
              "       width=\"24px\">\n",
              "    <path d=\"M0 0h24v24H0V0z\" fill=\"none\"/>\n",
              "    <path d=\"M18.56 5.44l.94 2.06.94-2.06 2.06-.94-2.06-.94-.94-2.06-.94 2.06-2.06.94zm-11 1L8.5 8.5l.94-2.06 2.06-.94-2.06-.94L8.5 2.5l-.94 2.06-2.06.94zm10 10l.94 2.06.94-2.06 2.06-.94-2.06-.94-.94-2.06-.94 2.06-2.06.94z\"/><path d=\"M17.41 7.96l-1.37-1.37c-.4-.4-.92-.59-1.43-.59-.52 0-1.04.2-1.43.59L10.3 9.45l-7.72 7.72c-.78.78-.78 2.05 0 2.83L4 21.41c.39.39.9.59 1.41.59.51 0 1.02-.2 1.41-.59l7.78-7.78 2.81-2.81c.8-.78.8-2.07 0-2.86zM5.41 20L4 18.59l7.72-7.72 1.47 1.35L5.41 20z\"/>\n",
              "  </svg>\n",
              "      </button>\n",
              "      \n",
              "  <style>\n",
              "    .colab-df-container {\n",
              "      display:flex;\n",
              "      flex-wrap:wrap;\n",
              "      gap: 12px;\n",
              "    }\n",
              "\n",
              "    .colab-df-convert {\n",
              "      background-color: #E8F0FE;\n",
              "      border: none;\n",
              "      border-radius: 50%;\n",
              "      cursor: pointer;\n",
              "      display: none;\n",
              "      fill: #1967D2;\n",
              "      height: 32px;\n",
              "      padding: 0 0 0 0;\n",
              "      width: 32px;\n",
              "    }\n",
              "\n",
              "    .colab-df-convert:hover {\n",
              "      background-color: #E2EBFA;\n",
              "      box-shadow: 0px 1px 2px rgba(60, 64, 67, 0.3), 0px 1px 3px 1px rgba(60, 64, 67, 0.15);\n",
              "      fill: #174EA6;\n",
              "    }\n",
              "\n",
              "    [theme=dark] .colab-df-convert {\n",
              "      background-color: #3B4455;\n",
              "      fill: #D2E3FC;\n",
              "    }\n",
              "\n",
              "    [theme=dark] .colab-df-convert:hover {\n",
              "      background-color: #434B5C;\n",
              "      box-shadow: 0px 1px 3px 1px rgba(0, 0, 0, 0.15);\n",
              "      filter: drop-shadow(0px 1px 2px rgba(0, 0, 0, 0.3));\n",
              "      fill: #FFFFFF;\n",
              "    }\n",
              "  </style>\n",
              "\n",
              "      <script>\n",
              "        const buttonEl =\n",
              "          document.querySelector('#df-a01e53d0-376c-44c4-8373-e4129539b9ea button.colab-df-convert');\n",
              "        buttonEl.style.display =\n",
              "          google.colab.kernel.accessAllowed ? 'block' : 'none';\n",
              "\n",
              "        async function convertToInteractive(key) {\n",
              "          const element = document.querySelector('#df-a01e53d0-376c-44c4-8373-e4129539b9ea');\n",
              "          const dataTable =\n",
              "            await google.colab.kernel.invokeFunction('convertToInteractive',\n",
              "                                                     [key], {});\n",
              "          if (!dataTable) return;\n",
              "\n",
              "          const docLinkHtml = 'Like what you see? Visit the ' +\n",
              "            '<a target=\"_blank\" href=https://colab.research.google.com/notebooks/data_table.ipynb>data table notebook</a>'\n",
              "            + ' to learn more about interactive tables.';\n",
              "          element.innerHTML = '';\n",
              "          dataTable['output_type'] = 'display_data';\n",
              "          await google.colab.output.renderOutput(dataTable, element);\n",
              "          const docLink = document.createElement('div');\n",
              "          docLink.innerHTML = docLinkHtml;\n",
              "          element.appendChild(docLink);\n",
              "        }\n",
              "      </script>\n",
              "    </div>\n",
              "  </div>\n",
              "  "
            ]
          },
          "metadata": {},
          "execution_count": 141
        }
      ]
    },
    {
      "cell_type": "code",
      "source": [
        "# Heatmap of correlation\n",
        "\n",
        "corr_matrix = Affairs.corr(method = 'pearson')\n",
        "\n",
        "sns.heatmap(corr_matrix, annot = True)\n",
        "\n",
        "plt.title(\"Correlation matrice for the numerized dataset\")\n",
        "\n",
        "plt.xlabel(\"Household variables\")\n",
        "\n",
        "plt.ylabel(\"Household variables\")\n",
        "\n",
        "plt.show()"
      ],
      "metadata": {
        "id": "U9aFYvldQwqg",
        "colab": {
          "base_uri": "https://localhost:8080/",
          "height": 269
        },
        "outputId": "0e112f42-c56d-40a2-e586-0b8dd1984ac5"
      },
      "execution_count": null,
      "outputs": [
        {
          "output_type": "display_data",
          "data": {
            "text/plain": [
              "<Figure size 432x288 with 2 Axes>"
            ],
            "image/png": "[encoded data removed]"
          },
          "metadata": {
            "needs_background": "light"
          }
        }
      ]
    },
    {
      "cell_type": "markdown",
      "source": [
        "The correlation matrix and correlation heatmap show that:\n",
        "- \"yearsmarried\" and \"age\" are moderately correlated with r = .78\n",
        "- \"education\" and \"occupation\" are also moderately correlated with r = .53\n",
        "- we also look at \"affairs\" which is not or weakly correlated to the other variables"
      ],
      "metadata": {
        "id": "B08_mAImV73Y"
      }
    },
    {
      "cell_type": "markdown",
      "source": [
        "Look into VIF # from veronica"
      ],
      "metadata": {
        "id": "gVnnLt9mWK_I"
      }
    },
    {
      "cell_type": "code",
      "source": [
        "# defining a function to plot regression relation between two variables\n",
        "\n",
        "def cor(col1,col2,d):\n",
        "  ans = sns.regplot(x = col1, y = col2, data = Affairs, scatter_kws = {\"color\": \"red\"}, line_kws = {\"color\": \"black\"})\n",
        "  return ans\n",
        "\n",
        "# Scatter plot of \"yearsmarried\" and \"age\"\n",
        "\n",
        "print(cor(\"yearsmarried\", \"age\", Affairs))\n"
      ],
      "metadata": {
        "id": "KGIYVkXNWmD-",
        "colab": {
          "base_uri": "https://localhost:8080/",
          "height": 256
        },
        "outputId": "b1f89c8a-e6d0-4a33-88bc-202fb325d11f"
      },
      "execution_count": null,
      "outputs": [
        {
          "output_type": "stream",
          "name": "stdout",
          "text": [
            "AxesSubplot(0.125,0.125;0.775x0.755)\n"
          ]
        },
        {
          "output_type": "display_data",
          "data": {
            "text/plain": [
              "<Figure size 432x288 with 1 Axes>"
            ],
            "image/png": "[encoded data removed]"
          },
          "metadata": {
            "needs_background": "light"
          }
        }
      ]
    },
    {
      "cell_type": "code",
      "source": [
        "# scatter plot of \"occupation\" and \"education\"\n",
        "\n",
        "print(cor(\"occupation\", \"education\", Affairs))"
      ],
      "metadata": {
        "id": "PWMKvt_CX4VD",
        "colab": {
          "base_uri": "https://localhost:8080/",
          "height": 256
        },
        "outputId": "e719b683-e01e-48de-b845-a83c42c34d0e"
      },
      "execution_count": null,
      "outputs": [
        {
          "output_type": "stream",
          "name": "stdout",
          "text": [
            "AxesSubplot(0.125,0.125;0.775x0.755)\n"
          ]
        },
        {
          "output_type": "display_data",
          "data": {
            "text/plain": [
              "<Figure size 432x288 with 1 Axes>"
            ],
            "image/png": "[encoded data removed]"
          },
          "metadata": {
            "needs_background": "light"
          }
        }
      ]
    },
    {
      "cell_type": "code",
      "source": [
        "# Scatter plot of \"affairs\" and \"age\"\n",
        "\n",
        "print(cor(\"age\", \"affairs\", Affairs))"
      ],
      "metadata": {
        "id": "wYTd8xwVX7Qi",
        "colab": {
          "base_uri": "https://localhost:8080/",
          "height": 256
        },
        "outputId": "8782184d-8826-40a5-ee87-db092b1acaad"
      },
      "execution_count": null,
      "outputs": [
        {
          "output_type": "stream",
          "name": "stdout",
          "text": [
            "AxesSubplot(0.125,0.125;0.775x0.755)\n"
          ]
        },
        {
          "output_type": "display_data",
          "data": {
            "text/plain": [
              "<Figure size 432x288 with 1 Axes>"
            ],
            "image/png": "[encoded data removed]"
          },
          "metadata": {
            "needs_background": "light"
          }
        }
      ]
    },
    {
      "cell_type": "code",
      "source": [
        "# Scatter plot of \"affairs\" and \"yearsmarried\"\n",
        "\n",
        "print(cor(\"affairs\", \"yearsmarried\", Affairs))"
      ],
      "metadata": {
        "id": "T3KB7aB4RGX5",
        "colab": {
          "base_uri": "https://localhost:8080/",
          "height": 256
        },
        "outputId": "4dfee640-8719-400b-89e2-dad7e2ac31e1"
      },
      "execution_count": null,
      "outputs": [
        {
          "output_type": "stream",
          "name": "stdout",
          "text": [
            "AxesSubplot(0.125,0.125;0.775x0.755)\n"
          ]
        },
        {
          "output_type": "display_data",
          "data": {
            "text/plain": [
              "<Figure size 432x288 with 1 Axes>"
            ],
            "image/png": "[encoded data removed]"
          },
          "metadata": {
            "needs_background": "light"
          }
        }
      ]
    },
    {
      "cell_type": "code",
      "source": [
        "# Scatter plot of \"affairs\" and \"religiousness\"\n",
        "\n",
        "print(cor(\"affairs\", \"religiousness\", Affairs))"
      ],
      "metadata": {
        "id": "c92naRRdRJR-",
        "colab": {
          "base_uri": "https://localhost:8080/",
          "height": 254
        },
        "outputId": "eb6062a9-4be9-4540-b6d8-73ffb31efe4a"
      },
      "execution_count": null,
      "outputs": [
        {
          "output_type": "stream",
          "name": "stdout",
          "text": [
            "AxesSubplot(0.125,0.125;0.775x0.755)\n"
          ]
        },
        {
          "output_type": "display_data",
          "data": {
            "text/plain": [
              "<Figure size 432x288 with 1 Axes>"
            ],
            "image/png": "[encoded data removed]"
          },
          "metadata": {
            "needs_background": "light"
          }
        }
      ]
    },
    {
      "cell_type": "code",
      "source": [
        "# Scatter plot of \"affairs\" and \"education\"\n",
        "\n",
        "print(cor(\"affairs\", \"education\", Affairs))"
      ],
      "metadata": {
        "id": "peqFMuAYSD4H",
        "colab": {
          "base_uri": "https://localhost:8080/",
          "height": 256
        },
        "outputId": "3faffb97-25a9-4c40-d5f4-f6d0a1f1bd7a"
      },
      "execution_count": null,
      "outputs": [
        {
          "output_type": "stream",
          "name": "stdout",
          "text": [
            "AxesSubplot(0.125,0.125;0.775x0.755)\n"
          ]
        },
        {
          "output_type": "display_data",
          "data": {
            "text/plain": [
              "<Figure size 432x288 with 1 Axes>"
            ],
            "image/png": "[encoded data removed]"
          },
          "metadata": {
            "needs_background": "light"
          }
        }
      ]
    },
    {
      "cell_type": "code",
      "source": [
        "# Scatter plot of \"affairs\" and \"occupation\"\n",
        "\n",
        "print(cor(\"affairs\", \"occupation\", Affairs))"
      ],
      "metadata": {
        "id": "4nkcFLQzSlsI",
        "colab": {
          "base_uri": "https://localhost:8080/",
          "height": 260
        },
        "outputId": "20b72605-617d-4ef0-fa43-a5b42e267e2e"
      },
      "execution_count": null,
      "outputs": [
        {
          "output_type": "stream",
          "name": "stdout",
          "text": [
            "AxesSubplot(0.125,0.125;0.775x0.755)\n"
          ]
        },
        {
          "output_type": "display_data",
          "data": {
            "text/plain": [
              "<Figure size 432x288 with 1 Axes>"
            ],
            "image/png": "[encoded data removed]"
          },
          "metadata": {
            "needs_background": "light"
          }
        }
      ]
    },
    {
      "cell_type": "code",
      "source": [
        "# Scatter plot of \"affairs\" and \"rating\"\n",
        "\n",
        "print(cor(\"affairs\", \"rating\", Affairs))"
      ],
      "metadata": {
        "id": "yVfwlH0uSoyy",
        "colab": {
          "base_uri": "https://localhost:8080/",
          "height": 254
        },
        "outputId": "91ae90c6-4ef5-4bb3-bf3d-0c4d37bfeafb"
      },
      "execution_count": null,
      "outputs": [
        {
          "output_type": "stream",
          "name": "stdout",
          "text": [
            "AxesSubplot(0.125,0.125;0.775x0.755)\n"
          ]
        },
        {
          "output_type": "display_data",
          "data": {
            "text/plain": [
              "<Figure size 432x288 with 1 Axes>"
            ],
            "image/png": "[encoded data removed]"
          },
          "metadata": {
            "needs_background": "light"
          }
        }
      ]
    },
    {
      "cell_type": "markdown",
      "source": [
        "With respect to the variable \"affairs\", the observation on correlations show there is weak or no correlations with other variables."
      ],
      "metadata": {
        "id": "oura0PXKTegO"
      }
    },
    {
      "cell_type": "markdown",
      "source": [
        "#  Multivariate Analysis"
      ],
      "metadata": {
        "id": "TE8qTJMyCOwv"
      }
    },
    {
      "cell_type": "code",
      "source": [
        "# We change all values into categorical variables\n",
        "\n",
        "Affairs_cat = Affairs.copy()\n",
        "\n",
        "for col in Affairs_cat.columns:\n",
        "    if (Affairs_cat[col].dtype != 'age'):\n",
        "        Affairs_cat[col] = Affairs_cat[col].astype('category')\n",
        "        Affairs_cat[col] = Affairs_cat[col].cat.codes\n",
        "        \n",
        "Affairs_cat.head()"
      ],
      "metadata": {
        "id": "dNPgL74FrTYx",
        "colab": {
          "base_uri": "https://localhost:8080/",
          "height": 287
        },
        "outputId": "a227ba6c-68ae-4fe3-c8ea-8c555c964cf8"
      },
      "execution_count": null,
      "outputs": [
        {
          "output_type": "execute_result",
          "data": {
            "text/plain": [
              "   Unnamed: 0  affairs  gender  age  yearsmarried  children  religiousness  \\\n",
              "0           0        0       1    4             6         0              2   \n",
              "1           1        0       0    2             4         0              3   \n",
              "2           3        0       0    3             7         1              0   \n",
              "3           5        0       1    8             7         1              4   \n",
              "4           6        0       1    1             2         0              1   \n",
              "\n",
              "   education  occupation  rating  income  \n",
              "0          5           6       3       6  \n",
              "1          2           5       3       5  \n",
              "2          1           0       3       0  \n",
              "3          5           5       4       5  \n",
              "4          4           5       2       5  "
            ],
            "text/html": [
              "\n",
              "  <div id=\"df-8f11a082-bc38-4081-8652-21add111db9c\">\n",
              "    <div class=\"colab-df-container\">\n",
              "      <div>\n",
              "<style scoped>\n",
              "    .dataframe tbody tr th:only-of-type {\n",
              "        vertical-align: middle;\n",
              "    }\n",
              "\n",
              "    .dataframe tbody tr th {\n",
              "        vertical-align: top;\n",
              "    }\n",
              "\n",
              "    .dataframe thead th {\n",
              "        text-align: right;\n",
              "    }\n",
              "</style>\n",
              "<table border=\"1\" class=\"dataframe\">\n",
              "  <thead>\n",
              "    <tr style=\"text-align: right;\">\n",
              "      <th></th>\n",
              "      <th>Unnamed: 0</th>\n",
              "      <th>affairs</th>\n",
              "      <th>gender</th>\n",
              "      <th>age</th>\n",
              "      <th>yearsmarried</th>\n",
              "      <th>children</th>\n",
              "      <th>religiousness</th>\n",
              "      <th>education</th>\n",
              "      <th>occupation</th>\n",
              "      <th>rating</th>\n",
              "      <th>income</th>\n",
              "    </tr>\n",
              "  </thead>\n",
              "  <tbody>\n",
              "    <tr>\n",
              "      <th>0</th>\n",
              "      <td>0</td>\n",
              "      <td>0</td>\n",
              "      <td>1</td>\n",
              "      <td>4</td>\n",
              "      <td>6</td>\n",
              "      <td>0</td>\n",
              "      <td>2</td>\n",
              "      <td>5</td>\n",
              "      <td>6</td>\n",
              "      <td>3</td>\n",
              "      <td>6</td>\n",
              "    </tr>\n",
              "    <tr>\n",
              "      <th>1</th>\n",
              "      <td>1</td>\n",
              "      <td>0</td>\n",
              "      <td>0</td>\n",
              "      <td>2</td>\n",
              "      <td>4</td>\n",
              "      <td>0</td>\n",
              "      <td>3</td>\n",
              "      <td>2</td>\n",
              "      <td>5</td>\n",
              "      <td>3</td>\n",
              "      <td>5</td>\n",
              "    </tr>\n",
              "    <tr>\n",
              "      <th>2</th>\n",
              "      <td>3</td>\n",
              "      <td>0</td>\n",
              "      <td>0</td>\n",
              "      <td>3</td>\n",
              "      <td>7</td>\n",
              "      <td>1</td>\n",
              "      <td>0</td>\n",
              "      <td>1</td>\n",
              "      <td>0</td>\n",
              "      <td>3</td>\n",
              "      <td>0</td>\n",
              "    </tr>\n",
              "    <tr>\n",
              "      <th>3</th>\n",
              "      <td>5</td>\n",
              "      <td>0</td>\n",
              "      <td>1</td>\n",
              "      <td>8</td>\n",
              "      <td>7</td>\n",
              "      <td>1</td>\n",
              "      <td>4</td>\n",
              "      <td>5</td>\n",
              "      <td>5</td>\n",
              "      <td>4</td>\n",
              "      <td>5</td>\n",
              "    </tr>\n",
              "    <tr>\n",
              "      <th>4</th>\n",
              "      <td>6</td>\n",
              "      <td>0</td>\n",
              "      <td>1</td>\n",
              "      <td>1</td>\n",
              "      <td>2</td>\n",
              "      <td>0</td>\n",
              "      <td>1</td>\n",
              "      <td>4</td>\n",
              "      <td>5</td>\n",
              "      <td>2</td>\n",
              "      <td>5</td>\n",
              "    </tr>\n",
              "  </tbody>\n",
              "</table>\n",
              "</div>\n",
              "      <button class=\"colab-df-convert\" onclick=\"convertToInteractive('df-8f11a082-bc38-4081-8652-21add111db9c')\"\n",
              "              title=\"Convert this dataframe to an interactive table.\"\n",
              "              style=\"display:none;\">\n",
              "        \n",
              "  <svg xmlns=\"http://www.w3.org/2000/svg\" height=\"24px\"viewBox=\"0 0 24 24\"\n",
              "       width=\"24px\">\n",
              "    <path d=\"M0 0h24v24H0V0z\" fill=\"none\"/>\n",
              "    <path d=\"M18.56 5.44l.94 2.06.94-2.06 2.06-.94-2.06-.94-.94-2.06-.94 2.06-2.06.94zm-11 1L8.5 8.5l.94-2.06 2.06-.94-2.06-.94L8.5 2.5l-.94 2.06-2.06.94zm10 10l.94 2.06.94-2.06 2.06-.94-2.06-.94-.94-2.06-.94 2.06-2.06.94z\"/><path d=\"M17.41 7.96l-1.37-1.37c-.4-.4-.92-.59-1.43-.59-.52 0-1.04.2-1.43.59L10.3 9.45l-7.72 7.72c-.78.78-.78 2.05 0 2.83L4 21.41c.39.39.9.59 1.41.59.51 0 1.02-.2 1.41-.59l7.78-7.78 2.81-2.81c.8-.78.8-2.07 0-2.86zM5.41 20L4 18.59l7.72-7.72 1.47 1.35L5.41 20z\"/>\n",
              "  </svg>\n",
              "      </button>\n",
              "      \n",
              "  <style>\n",
              "    .colab-df-container {\n",
              "      display:flex;\n",
              "      flex-wrap:wrap;\n",
              "      gap: 12px;\n",
              "    }\n",
              "\n",
              "    .colab-df-convert {\n",
              "      background-color: #E8F0FE;\n",
              "      border: none;\n",
              "      border-radius: 50%;\n",
              "      cursor: pointer;\n",
              "      display: none;\n",
              "      fill: #1967D2;\n",
              "      height: 32px;\n",
              "      padding: 0 0 0 0;\n",
              "      width: 32px;\n",
              "    }\n",
              "\n",
              "    .colab-df-convert:hover {\n",
              "      background-color: #E2EBFA;\n",
              "      box-shadow: 0px 1px 2px rgba(60, 64, 67, 0.3), 0px 1px 3px 1px rgba(60, 64, 67, 0.15);\n",
              "      fill: #174EA6;\n",
              "    }\n",
              "\n",
              "    [theme=dark] .colab-df-convert {\n",
              "      background-color: #3B4455;\n",
              "      fill: #D2E3FC;\n",
              "    }\n",
              "\n",
              "    [theme=dark] .colab-df-convert:hover {\n",
              "      background-color: #434B5C;\n",
              "      box-shadow: 0px 1px 3px 1px rgba(0, 0, 0, 0.15);\n",
              "      filter: drop-shadow(0px 1px 2px rgba(0, 0, 0, 0.3));\n",
              "      fill: #FFFFFF;\n",
              "    }\n",
              "  </style>\n",
              "\n",
              "      <script>\n",
              "        const buttonEl =\n",
              "          document.querySelector('#df-8f11a082-bc38-4081-8652-21add111db9c button.colab-df-convert');\n",
              "        buttonEl.style.display =\n",
              "          google.colab.kernel.accessAllowed ? 'block' : 'none';\n",
              "\n",
              "        async function convertToInteractive(key) {\n",
              "          const element = document.querySelector('#df-8f11a082-bc38-4081-8652-21add111db9c');\n",
              "          const dataTable =\n",
              "            await google.colab.kernel.invokeFunction('convertToInteractive',\n",
              "                                                     [key], {});\n",
              "          if (!dataTable) return;\n",
              "\n",
              "          const docLinkHtml = 'Like what you see? Visit the ' +\n",
              "            '<a target=\"_blank\" href=https://colab.research.google.com/notebooks/data_table.ipynb>data table notebook</a>'\n",
              "            + ' to learn more about interactive tables.';\n",
              "          element.innerHTML = '';\n",
              "          dataTable['output_type'] = 'display_data';\n",
              "          await google.colab.output.renderOutput(dataTable, element);\n",
              "          const docLink = document.createElement('div');\n",
              "          docLink.innerHTML = docLinkHtml;\n",
              "          element.appendChild(docLink);\n",
              "        }\n",
              "      </script>\n",
              "    </div>\n",
              "  </div>\n",
              "  "
            ]
          },
          "metadata": {},
          "execution_count": 151
        }
      ]
    },
    {
      "cell_type": "markdown",
      "source": [
        "We categorized all variables except \"age\""
      ],
      "metadata": {
        "id": "UY4bnnw991Mw"
      }
    },
    {
      "cell_type": "code",
      "source": [
        "# Changing our target variable \"affairs\" into a binary variable with \n",
        "# 0 for no affair and 1 for having an affair\n",
        "\n",
        "affairs_bin = np.where(Affairs_cat['affairs'] == 0, 0, 1)\n",
        "if 'affairs_bin' not in Affairs_cat.columns:\n",
        "  Affairs_cat.insert(1, \"affairs_bin\", affairs_bin)\n",
        "\n",
        "Affairs_cat.head()"
      ],
      "metadata": {
        "id": "O39IulJ6SoBa",
        "colab": {
          "base_uri": "https://localhost:8080/",
          "height": 287
        },
        "outputId": "be29524f-a797-490c-acac-510b9d61bc37"
      },
      "execution_count": null,
      "outputs": [
        {
          "output_type": "execute_result",
          "data": {
            "text/plain": [
              "   Unnamed: 0  affairs_bin  affairs  gender  age  yearsmarried  children  \\\n",
              "0           0            0        0       1    4             6         0   \n",
              "1           1            0        0       0    2             4         0   \n",
              "2           3            0        0       0    3             7         1   \n",
              "3           5            0        0       1    8             7         1   \n",
              "4           6            0        0       1    1             2         0   \n",
              "\n",
              "   religiousness  education  occupation  rating  income  \n",
              "0              2          5           6       3       6  \n",
              "1              3          2           5       3       5  \n",
              "2              0          1           0       3       0  \n",
              "3              4          5           5       4       5  \n",
              "4              1          4           5       2       5  "
            ],
            "text/html": [
              "\n",
              "  <div id=\"df-49f081e5-0708-4c71-877f-00af7c3c49ce\">\n",
              "    <div class=\"colab-df-container\">\n",
              "      <div>\n",
              "<style scoped>\n",
              "    .dataframe tbody tr th:only-of-type {\n",
              "        vertical-align: middle;\n",
              "    }\n",
              "\n",
              "    .dataframe tbody tr th {\n",
              "        vertical-align: top;\n",
              "    }\n",
              "\n",
              "    .dataframe thead th {\n",
              "        text-align: right;\n",
              "    }\n",
              "</style>\n",
              "<table border=\"1\" class=\"dataframe\">\n",
              "  <thead>\n",
              "    <tr style=\"text-align: right;\">\n",
              "      <th></th>\n",
              "      <th>Unnamed: 0</th>\n",
              "      <th>affairs_bin</th>\n",
              "      <th>affairs</th>\n",
              "      <th>gender</th>\n",
              "      <th>age</th>\n",
              "      <th>yearsmarried</th>\n",
              "      <th>children</th>\n",
              "      <th>religiousness</th>\n",
              "      <th>education</th>\n",
              "      <th>occupation</th>\n",
              "      <th>rating</th>\n",
              "      <th>income</th>\n",
              "    </tr>\n",
              "  </thead>\n",
              "  <tbody>\n",
              "    <tr>\n",
              "      <th>0</th>\n",
              "      <td>0</td>\n",
              "      <td>0</td>\n",
              "      <td>0</td>\n",
              "      <td>1</td>\n",
              "      <td>4</td>\n",
              "      <td>6</td>\n",
              "      <td>0</td>\n",
              "      <td>2</td>\n",
              "      <td>5</td>\n",
              "      <td>6</td>\n",
              "      <td>3</td>\n",
              "      <td>6</td>\n",
              "    </tr>\n",
              "    <tr>\n",
              "      <th>1</th>\n",
              "      <td>1</td>\n",
              "      <td>0</td>\n",
              "      <td>0</td>\n",
              "      <td>0</td>\n",
              "      <td>2</td>\n",
              "      <td>4</td>\n",
              "      <td>0</td>\n",
              "      <td>3</td>\n",
              "      <td>2</td>\n",
              "      <td>5</td>\n",
              "      <td>3</td>\n",
              "      <td>5</td>\n",
              "    </tr>\n",
              "    <tr>\n",
              "      <th>2</th>\n",
              "      <td>3</td>\n",
              "      <td>0</td>\n",
              "      <td>0</td>\n",
              "      <td>0</td>\n",
              "      <td>3</td>\n",
              "      <td>7</td>\n",
              "      <td>1</td>\n",
              "      <td>0</td>\n",
              "      <td>1</td>\n",
              "      <td>0</td>\n",
              "      <td>3</td>\n",
              "      <td>0</td>\n",
              "    </tr>\n",
              "    <tr>\n",
              "      <th>3</th>\n",
              "      <td>5</td>\n",
              "      <td>0</td>\n",
              "      <td>0</td>\n",
              "      <td>1</td>\n",
              "      <td>8</td>\n",
              "      <td>7</td>\n",
              "      <td>1</td>\n",
              "      <td>4</td>\n",
              "      <td>5</td>\n",
              "      <td>5</td>\n",
              "      <td>4</td>\n",
              "      <td>5</td>\n",
              "    </tr>\n",
              "    <tr>\n",
              "      <th>4</th>\n",
              "      <td>6</td>\n",
              "      <td>0</td>\n",
              "      <td>0</td>\n",
              "      <td>1</td>\n",
              "      <td>1</td>\n",
              "      <td>2</td>\n",
              "      <td>0</td>\n",
              "      <td>1</td>\n",
              "      <td>4</td>\n",
              "      <td>5</td>\n",
              "      <td>2</td>\n",
              "      <td>5</td>\n",
              "    </tr>\n",
              "  </tbody>\n",
              "</table>\n",
              "</div>\n",
              "      <button class=\"colab-df-convert\" onclick=\"convertToInteractive('df-49f081e5-0708-4c71-877f-00af7c3c49ce')\"\n",
              "              title=\"Convert this dataframe to an interactive table.\"\n",
              "              style=\"display:none;\">\n",
              "        \n",
              "  <svg xmlns=\"http://www.w3.org/2000/svg\" height=\"24px\"viewBox=\"0 0 24 24\"\n",
              "       width=\"24px\">\n",
              "    <path d=\"M0 0h24v24H0V0z\" fill=\"none\"/>\n",
              "    <path d=\"M18.56 5.44l.94 2.06.94-2.06 2.06-.94-2.06-.94-.94-2.06-.94 2.06-2.06.94zm-11 1L8.5 8.5l.94-2.06 2.06-.94-2.06-.94L8.5 2.5l-.94 2.06-2.06.94zm10 10l.94 2.06.94-2.06 2.06-.94-2.06-.94-.94-2.06-.94 2.06-2.06.94z\"/><path d=\"M17.41 7.96l-1.37-1.37c-.4-.4-.92-.59-1.43-.59-.52 0-1.04.2-1.43.59L10.3 9.45l-7.72 7.72c-.78.78-.78 2.05 0 2.83L4 21.41c.39.39.9.59 1.41.59.51 0 1.02-.2 1.41-.59l7.78-7.78 2.81-2.81c.8-.78.8-2.07 0-2.86zM5.41 20L4 18.59l7.72-7.72 1.47 1.35L5.41 20z\"/>\n",
              "  </svg>\n",
              "      </button>\n",
              "      \n",
              "  <style>\n",
              "    .colab-df-container {\n",
              "      display:flex;\n",
              "      flex-wrap:wrap;\n",
              "      gap: 12px;\n",
              "    }\n",
              "\n",
              "    .colab-df-convert {\n",
              "      background-color: #E8F0FE;\n",
              "      border: none;\n",
              "      border-radius: 50%;\n",
              "      cursor: pointer;\n",
              "      display: none;\n",
              "      fill: #1967D2;\n",
              "      height: 32px;\n",
              "      padding: 0 0 0 0;\n",
              "      width: 32px;\n",
              "    }\n",
              "\n",
              "    .colab-df-convert:hover {\n",
              "      background-color: #E2EBFA;\n",
              "      box-shadow: 0px 1px 2px rgba(60, 64, 67, 0.3), 0px 1px 3px 1px rgba(60, 64, 67, 0.15);\n",
              "      fill: #174EA6;\n",
              "    }\n",
              "\n",
              "    [theme=dark] .colab-df-convert {\n",
              "      background-color: #3B4455;\n",
              "      fill: #D2E3FC;\n",
              "    }\n",
              "\n",
              "    [theme=dark] .colab-df-convert:hover {\n",
              "      background-color: #434B5C;\n",
              "      box-shadow: 0px 1px 3px 1px rgba(0, 0, 0, 0.15);\n",
              "      filter: drop-shadow(0px 1px 2px rgba(0, 0, 0, 0.3));\n",
              "      fill: #FFFFFF;\n",
              "    }\n",
              "  </style>\n",
              "\n",
              "      <script>\n",
              "        const buttonEl =\n",
              "          document.querySelector('#df-49f081e5-0708-4c71-877f-00af7c3c49ce button.colab-df-convert');\n",
              "        buttonEl.style.display =\n",
              "          google.colab.kernel.accessAllowed ? 'block' : 'none';\n",
              "\n",
              "        async function convertToInteractive(key) {\n",
              "          const element = document.querySelector('#df-49f081e5-0708-4c71-877f-00af7c3c49ce');\n",
              "          const dataTable =\n",
              "            await google.colab.kernel.invokeFunction('convertToInteractive',\n",
              "                                                     [key], {});\n",
              "          if (!dataTable) return;\n",
              "\n",
              "          const docLinkHtml = 'Like what you see? Visit the ' +\n",
              "            '<a target=\"_blank\" href=https://colab.research.google.com/notebooks/data_table.ipynb>data table notebook</a>'\n",
              "            + ' to learn more about interactive tables.';\n",
              "          element.innerHTML = '';\n",
              "          dataTable['output_type'] = 'display_data';\n",
              "          await google.colab.output.renderOutput(dataTable, element);\n",
              "          const docLink = document.createElement('div');\n",
              "          docLink.innerHTML = docLinkHtml;\n",
              "          element.appendChild(docLink);\n",
              "        }\n",
              "      </script>\n",
              "    </div>\n",
              "  </div>\n",
              "  "
            ]
          },
          "metadata": {},
          "execution_count": 152
        }
      ]
    },
    {
      "cell_type": "markdown",
      "source": [
        "We create a binary variable for \"affairs\" where 0 is no extra marital affairs and 1 is having an extra marital affair (1, 2, 3, 7, 12)."
      ],
      "metadata": {
        "id": "adv2R75S-wNs"
      }
    },
    {
      "cell_type": "code",
      "source": [
        "# Dropping column \"affairs\" as we will use affairs_bin as the target variable\n",
        "\n",
        "Affairs_cat.drop(\"affairs\", axis = 1, inplace = True)\n",
        "\n",
        "Affairs_cat.shape\n"
      ],
      "metadata": {
        "id": "0YU9BtW3uWZk",
        "colab": {
          "base_uri": "https://localhost:8080/"
        },
        "outputId": "a18ba23c-307d-4a3b-ae84-58c9e706c400"
      },
      "execution_count": null,
      "outputs": [
        {
          "output_type": "execute_result",
          "data": {
            "text/plain": [
              "(601, 11)"
            ]
          },
          "metadata": {},
          "execution_count": 153
        }
      ]
    },
    {
      "cell_type": "code",
      "source": [
        "# Creating dependent and independent variables\n",
        "\n",
        "y = dependent = target =  Affairs_cat[\"affairs_bin\"]\n",
        "\n",
        "X = independent = predictors = Affairs_cat.loc[:,Affairs_cat.columns != \"affairs_bin\"]\n",
        "\n",
        "X.head()"
      ],
      "metadata": {
        "id": "TGQ23sB27RJD",
        "colab": {
          "base_uri": "https://localhost:8080/",
          "height": 287
        },
        "outputId": "dcd760b1-7567-4cec-bd95-2b73c0956aa9"
      },
      "execution_count": null,
      "outputs": [
        {
          "output_type": "execute_result",
          "data": {
            "text/plain": [
              "   Unnamed: 0  gender  age  yearsmarried  children  religiousness  education  \\\n",
              "0           0       1    4             6         0              2          5   \n",
              "1           1       0    2             4         0              3          2   \n",
              "2           3       0    3             7         1              0          1   \n",
              "3           5       1    8             7         1              4          5   \n",
              "4           6       1    1             2         0              1          4   \n",
              "\n",
              "   occupation  rating  income  \n",
              "0           6       3       6  \n",
              "1           5       3       5  \n",
              "2           0       3       0  \n",
              "3           5       4       5  \n",
              "4           5       2       5  "
            ],
            "text/html": [
              "\n",
              "  <div id=\"df-caa86c4d-8082-4386-91e9-0150c331fcc9\">\n",
              "    <div class=\"colab-df-container\">\n",
              "      <div>\n",
              "<style scoped>\n",
              "    .dataframe tbody tr th:only-of-type {\n",
              "        vertical-align: middle;\n",
              "    }\n",
              "\n",
              "    .dataframe tbody tr th {\n",
              "        vertical-align: top;\n",
              "    }\n",
              "\n",
              "    .dataframe thead th {\n",
              "        text-align: right;\n",
              "    }\n",
              "</style>\n",
              "<table border=\"1\" class=\"dataframe\">\n",
              "  <thead>\n",
              "    <tr style=\"text-align: right;\">\n",
              "      <th></th>\n",
              "      <th>Unnamed: 0</th>\n",
              "      <th>gender</th>\n",
              "      <th>age</th>\n",
              "      <th>yearsmarried</th>\n",
              "      <th>children</th>\n",
              "      <th>religiousness</th>\n",
              "      <th>education</th>\n",
              "      <th>occupation</th>\n",
              "      <th>rating</th>\n",
              "      <th>income</th>\n",
              "    </tr>\n",
              "  </thead>\n",
              "  <tbody>\n",
              "    <tr>\n",
              "      <th>0</th>\n",
              "      <td>0</td>\n",
              "      <td>1</td>\n",
              "      <td>4</td>\n",
              "      <td>6</td>\n",
              "      <td>0</td>\n",
              "      <td>2</td>\n",
              "      <td>5</td>\n",
              "      <td>6</td>\n",
              "      <td>3</td>\n",
              "      <td>6</td>\n",
              "    </tr>\n",
              "    <tr>\n",
              "      <th>1</th>\n",
              "      <td>1</td>\n",
              "      <td>0</td>\n",
              "      <td>2</td>\n",
              "      <td>4</td>\n",
              "      <td>0</td>\n",
              "      <td>3</td>\n",
              "      <td>2</td>\n",
              "      <td>5</td>\n",
              "      <td>3</td>\n",
              "      <td>5</td>\n",
              "    </tr>\n",
              "    <tr>\n",
              "      <th>2</th>\n",
              "      <td>3</td>\n",
              "      <td>0</td>\n",
              "      <td>3</td>\n",
              "      <td>7</td>\n",
              "      <td>1</td>\n",
              "      <td>0</td>\n",
              "      <td>1</td>\n",
              "      <td>0</td>\n",
              "      <td>3</td>\n",
              "      <td>0</td>\n",
              "    </tr>\n",
              "    <tr>\n",
              "      <th>3</th>\n",
              "      <td>5</td>\n",
              "      <td>1</td>\n",
              "      <td>8</td>\n",
              "      <td>7</td>\n",
              "      <td>1</td>\n",
              "      <td>4</td>\n",
              "      <td>5</td>\n",
              "      <td>5</td>\n",
              "      <td>4</td>\n",
              "      <td>5</td>\n",
              "    </tr>\n",
              "    <tr>\n",
              "      <th>4</th>\n",
              "      <td>6</td>\n",
              "      <td>1</td>\n",
              "      <td>1</td>\n",
              "      <td>2</td>\n",
              "      <td>0</td>\n",
              "      <td>1</td>\n",
              "      <td>4</td>\n",
              "      <td>5</td>\n",
              "      <td>2</td>\n",
              "      <td>5</td>\n",
              "    </tr>\n",
              "  </tbody>\n",
              "</table>\n",
              "</div>\n",
              "      <button class=\"colab-df-convert\" onclick=\"convertToInteractive('df-caa86c4d-8082-4386-91e9-0150c331fcc9')\"\n",
              "              title=\"Convert this dataframe to an interactive table.\"\n",
              "              style=\"display:none;\">\n",
              "        \n",
              "  <svg xmlns=\"http://www.w3.org/2000/svg\" height=\"24px\"viewBox=\"0 0 24 24\"\n",
              "       width=\"24px\">\n",
              "    <path d=\"M0 0h24v24H0V0z\" fill=\"none\"/>\n",
              "    <path d=\"M18.56 5.44l.94 2.06.94-2.06 2.06-.94-2.06-.94-.94-2.06-.94 2.06-2.06.94zm-11 1L8.5 8.5l.94-2.06 2.06-.94-2.06-.94L8.5 2.5l-.94 2.06-2.06.94zm10 10l.94 2.06.94-2.06 2.06-.94-2.06-.94-.94-2.06-.94 2.06-2.06.94z\"/><path d=\"M17.41 7.96l-1.37-1.37c-.4-.4-.92-.59-1.43-.59-.52 0-1.04.2-1.43.59L10.3 9.45l-7.72 7.72c-.78.78-.78 2.05 0 2.83L4 21.41c.39.39.9.59 1.41.59.51 0 1.02-.2 1.41-.59l7.78-7.78 2.81-2.81c.8-.78.8-2.07 0-2.86zM5.41 20L4 18.59l7.72-7.72 1.47 1.35L5.41 20z\"/>\n",
              "  </svg>\n",
              "      </button>\n",
              "      \n",
              "  <style>\n",
              "    .colab-df-container {\n",
              "      display:flex;\n",
              "      flex-wrap:wrap;\n",
              "      gap: 12px;\n",
              "    }\n",
              "\n",
              "    .colab-df-convert {\n",
              "      background-color: #E8F0FE;\n",
              "      border: none;\n",
              "      border-radius: 50%;\n",
              "      cursor: pointer;\n",
              "      display: none;\n",
              "      fill: #1967D2;\n",
              "      height: 32px;\n",
              "      padding: 0 0 0 0;\n",
              "      width: 32px;\n",
              "    }\n",
              "\n",
              "    .colab-df-convert:hover {\n",
              "      background-color: #E2EBFA;\n",
              "      box-shadow: 0px 1px 2px rgba(60, 64, 67, 0.3), 0px 1px 3px 1px rgba(60, 64, 67, 0.15);\n",
              "      fill: #174EA6;\n",
              "    }\n",
              "\n",
              "    [theme=dark] .colab-df-convert {\n",
              "      background-color: #3B4455;\n",
              "      fill: #D2E3FC;\n",
              "    }\n",
              "\n",
              "    [theme=dark] .colab-df-convert:hover {\n",
              "      background-color: #434B5C;\n",
              "      box-shadow: 0px 1px 3px 1px rgba(0, 0, 0, 0.15);\n",
              "      filter: drop-shadow(0px 1px 2px rgba(0, 0, 0, 0.3));\n",
              "      fill: #FFFFFF;\n",
              "    }\n",
              "  </style>\n",
              "\n",
              "      <script>\n",
              "        const buttonEl =\n",
              "          document.querySelector('#df-caa86c4d-8082-4386-91e9-0150c331fcc9 button.colab-df-convert');\n",
              "        buttonEl.style.display =\n",
              "          google.colab.kernel.accessAllowed ? 'block' : 'none';\n",
              "\n",
              "        async function convertToInteractive(key) {\n",
              "          const element = document.querySelector('#df-caa86c4d-8082-4386-91e9-0150c331fcc9');\n",
              "          const dataTable =\n",
              "            await google.colab.kernel.invokeFunction('convertToInteractive',\n",
              "                                                     [key], {});\n",
              "          if (!dataTable) return;\n",
              "\n",
              "          const docLinkHtml = 'Like what you see? Visit the ' +\n",
              "            '<a target=\"_blank\" href=https://colab.research.google.com/notebooks/data_table.ipynb>data table notebook</a>'\n",
              "            + ' to learn more about interactive tables.';\n",
              "          element.innerHTML = '';\n",
              "          dataTable['output_type'] = 'display_data';\n",
              "          await google.colab.output.renderOutput(dataTable, element);\n",
              "          const docLink = document.createElement('div');\n",
              "          docLink.innerHTML = docLinkHtml;\n",
              "          element.appendChild(docLink);\n",
              "        }\n",
              "      </script>\n",
              "    </div>\n",
              "  </div>\n",
              "  "
            ]
          },
          "metadata": {},
          "execution_count": 154
        }
      ]
    },
    {
      "cell_type": "markdown",
      "source": [
        "## Objective 1: Logistic Regression"
      ],
      "metadata": {
        "id": "WwdA0zpNythC"
      }
    },
    {
      "cell_type": "code",
      "source": [
        "# instantiate a logistic regression model, and fit with X and y\n",
        "model = LogisticRegression()\n",
        "model = model.fit(X, y)\n",
        "\n",
        "# check the accuracy on the training set\n",
        "model.score(X, y)"
      ],
      "metadata": {
        "colab": {
          "base_uri": "https://localhost:8080/"
        },
        "id": "8BuIcoKF2-4o",
        "outputId": "3337fdbb-9775-48c4-e1e8-7f6895716606"
      },
      "execution_count": null,
      "outputs": [
        {
          "output_type": "stream",
          "name": "stderr",
          "text": [
            "/usr/local/lib/python3.7/dist-packages/sklearn/linear_model/_logistic.py:818: ConvergenceWarning: lbfgs failed to converge (status=1):\n",
            "STOP: TOTAL NO. of ITERATIONS REACHED LIMIT.\n",
            "\n",
            "Increase the number of iterations (max_iter) or scale the data as shown in:\n",
            "    https://scikit-learn.org/stable/modules/preprocessing.html\n",
            "Please also refer to the documentation for alternative solver options:\n",
            "    https://scikit-learn.org/stable/modules/linear_model.html#logistic-regression\n",
            "  extra_warning_msg=_LOGISTIC_SOLVER_CONVERGENCE_MSG,\n"
          ]
        },
        {
          "output_type": "execute_result",
          "data": {
            "text/plain": [
              "0.7603993344425957"
            ]
          },
          "metadata": {},
          "execution_count": 155
        }
      ]
    },
    {
      "cell_type": "code",
      "source": [
        "y.mean()"
      ],
      "metadata": {
        "colab": {
          "base_uri": "https://localhost:8080/"
        },
        "id": "CAk3zfSS4-SO",
        "outputId": "5e2d3e43-5aba-44fc-c13f-814939b0c767"
      },
      "execution_count": null,
      "outputs": [
        {
          "output_type": "execute_result",
          "data": {
            "text/plain": [
              "0.24958402662229617"
            ]
          },
          "metadata": {},
          "execution_count": 156
        }
      ]
    },
    {
      "cell_type": "markdown",
      "source": [
        "Only 25% of the respondents had affairs, which means that we could obtain 75% accuracy by always predicting \"no\". \n",
        "So our model is doing slightly better than the null error rate."
      ],
      "metadata": {
        "id": "5MGJyEqE5vGR"
      }
    },
    {
      "cell_type": "code",
      "source": [
        "# examine the coefficients\n",
        "trans = np.transpose(model.coef_)\n",
        "zipi = list(zip(X.columns, trans))\n",
        "pd.DataFrame(zipi)"
      ],
      "metadata": {
        "colab": {
          "base_uri": "https://localhost:8080/",
          "height": 407
        },
        "id": "joBM2sjD6MCi",
        "outputId": "15b56939-cdf1-4716-a8b8-f05f5429e5bb"
      },
      "execution_count": null,
      "outputs": [
        {
          "output_type": "execute_result",
          "data": {
            "text/plain": [
              "               0                         1\n",
              "0     Unnamed: 0  [-0.0007055382206032692]\n",
              "1         gender      [0.3086571626741966]\n",
              "2            age    [-0.20741162810850652]\n",
              "3   yearsmarried      [0.2948328853037906]\n",
              "4       children     [0.29055595096289366]\n",
              "5  religiousness     [-0.3322242138064103]\n",
              "6      education    [0.020568484647613627]\n",
              "7     occupation    [0.005642786755693561]\n",
              "8         rating     [-0.4990491619215258]\n",
              "9         income   [0.0056427867556923745]"
            ],
            "text/html": [
              "\n",
              "  <div id=\"df-7bd0034f-a37b-47bd-b5dd-180d426d7cd3\">\n",
              "    <div class=\"colab-df-container\">\n",
              "      <div>\n",
              "<style scoped>\n",
              "    .dataframe tbody tr th:only-of-type {\n",
              "        vertical-align: middle;\n",
              "    }\n",
              "\n",
              "    .dataframe tbody tr th {\n",
              "        vertical-align: top;\n",
              "    }\n",
              "\n",
              "    .dataframe thead th {\n",
              "        text-align: right;\n",
              "    }\n",
              "</style>\n",
              "<table border=\"1\" class=\"dataframe\">\n",
              "  <thead>\n",
              "    <tr style=\"text-align: right;\">\n",
              "      <th></th>\n",
              "      <th>0</th>\n",
              "      <th>1</th>\n",
              "    </tr>\n",
              "  </thead>\n",
              "  <tbody>\n",
              "    <tr>\n",
              "      <th>0</th>\n",
              "      <td>Unnamed: 0</td>\n",
              "      <td>[-0.0007055382206032692]</td>\n",
              "    </tr>\n",
              "    <tr>\n",
              "      <th>1</th>\n",
              "      <td>gender</td>\n",
              "      <td>[0.3086571626741966]</td>\n",
              "    </tr>\n",
              "    <tr>\n",
              "      <th>2</th>\n",
              "      <td>age</td>\n",
              "      <td>[-0.20741162810850652]</td>\n",
              "    </tr>\n",
              "    <tr>\n",
              "      <th>3</th>\n",
              "      <td>yearsmarried</td>\n",
              "      <td>[0.2948328853037906]</td>\n",
              "    </tr>\n",
              "    <tr>\n",
              "      <th>4</th>\n",
              "      <td>children</td>\n",
              "      <td>[0.29055595096289366]</td>\n",
              "    </tr>\n",
              "    <tr>\n",
              "      <th>5</th>\n",
              "      <td>religiousness</td>\n",
              "      <td>[-0.3322242138064103]</td>\n",
              "    </tr>\n",
              "    <tr>\n",
              "      <th>6</th>\n",
              "      <td>education</td>\n",
              "      <td>[0.020568484647613627]</td>\n",
              "    </tr>\n",
              "    <tr>\n",
              "      <th>7</th>\n",
              "      <td>occupation</td>\n",
              "      <td>[0.005642786755693561]</td>\n",
              "    </tr>\n",
              "    <tr>\n",
              "      <th>8</th>\n",
              "      <td>rating</td>\n",
              "      <td>[-0.4990491619215258]</td>\n",
              "    </tr>\n",
              "    <tr>\n",
              "      <th>9</th>\n",
              "      <td>income</td>\n",
              "      <td>[0.0056427867556923745]</td>\n",
              "    </tr>\n",
              "  </tbody>\n",
              "</table>\n",
              "</div>\n",
              "      <button class=\"colab-df-convert\" onclick=\"convertToInteractive('df-7bd0034f-a37b-47bd-b5dd-180d426d7cd3')\"\n",
              "              title=\"Convert this dataframe to an interactive table.\"\n",
              "              style=\"display:none;\">\n",
              "        \n",
              "  <svg xmlns=\"http://www.w3.org/2000/svg\" height=\"24px\"viewBox=\"0 0 24 24\"\n",
              "       width=\"24px\">\n",
              "    <path d=\"M0 0h24v24H0V0z\" fill=\"none\"/>\n",
              "    <path d=\"M18.56 5.44l.94 2.06.94-2.06 2.06-.94-2.06-.94-.94-2.06-.94 2.06-2.06.94zm-11 1L8.5 8.5l.94-2.06 2.06-.94-2.06-.94L8.5 2.5l-.94 2.06-2.06.94zm10 10l.94 2.06.94-2.06 2.06-.94-2.06-.94-.94-2.06-.94 2.06-2.06.94z\"/><path d=\"M17.41 7.96l-1.37-1.37c-.4-.4-.92-.59-1.43-.59-.52 0-1.04.2-1.43.59L10.3 9.45l-7.72 7.72c-.78.78-.78 2.05 0 2.83L4 21.41c.39.39.9.59 1.41.59.51 0 1.02-.2 1.41-.59l7.78-7.78 2.81-2.81c.8-.78.8-2.07 0-2.86zM5.41 20L4 18.59l7.72-7.72 1.47 1.35L5.41 20z\"/>\n",
              "  </svg>\n",
              "      </button>\n",
              "      \n",
              "  <style>\n",
              "    .colab-df-container {\n",
              "      display:flex;\n",
              "      flex-wrap:wrap;\n",
              "      gap: 12px;\n",
              "    }\n",
              "\n",
              "    .colab-df-convert {\n",
              "      background-color: #E8F0FE;\n",
              "      border: none;\n",
              "      border-radius: 50%;\n",
              "      cursor: pointer;\n",
              "      display: none;\n",
              "      fill: #1967D2;\n",
              "      height: 32px;\n",
              "      padding: 0 0 0 0;\n",
              "      width: 32px;\n",
              "    }\n",
              "\n",
              "    .colab-df-convert:hover {\n",
              "      background-color: #E2EBFA;\n",
              "      box-shadow: 0px 1px 2px rgba(60, 64, 67, 0.3), 0px 1px 3px 1px rgba(60, 64, 67, 0.15);\n",
              "      fill: #174EA6;\n",
              "    }\n",
              "\n",
              "    [theme=dark] .colab-df-convert {\n",
              "      background-color: #3B4455;\n",
              "      fill: #D2E3FC;\n",
              "    }\n",
              "\n",
              "    [theme=dark] .colab-df-convert:hover {\n",
              "      background-color: #434B5C;\n",
              "      box-shadow: 0px 1px 3px 1px rgba(0, 0, 0, 0.15);\n",
              "      filter: drop-shadow(0px 1px 2px rgba(0, 0, 0, 0.3));\n",
              "      fill: #FFFFFF;\n",
              "    }\n",
              "  </style>\n",
              "\n",
              "      <script>\n",
              "        const buttonEl =\n",
              "          document.querySelector('#df-7bd0034f-a37b-47bd-b5dd-180d426d7cd3 button.colab-df-convert');\n",
              "        buttonEl.style.display =\n",
              "          google.colab.kernel.accessAllowed ? 'block' : 'none';\n",
              "\n",
              "        async function convertToInteractive(key) {\n",
              "          const element = document.querySelector('#df-7bd0034f-a37b-47bd-b5dd-180d426d7cd3');\n",
              "          const dataTable =\n",
              "            await google.colab.kernel.invokeFunction('convertToInteractive',\n",
              "                                                     [key], {});\n",
              "          if (!dataTable) return;\n",
              "\n",
              "          const docLinkHtml = 'Like what you see? Visit the ' +\n",
              "            '<a target=\"_blank\" href=https://colab.research.google.com/notebooks/data_table.ipynb>data table notebook</a>'\n",
              "            + ' to learn more about interactive tables.';\n",
              "          element.innerHTML = '';\n",
              "          dataTable['output_type'] = 'display_data';\n",
              "          await google.colab.output.renderOutput(dataTable, element);\n",
              "          const docLink = document.createElement('div');\n",
              "          docLink.innerHTML = docLinkHtml;\n",
              "          element.appendChild(docLink);\n",
              "        }\n",
              "      </script>\n",
              "    </div>\n",
              "  </div>\n",
              "  "
            ]
          },
          "metadata": {},
          "execution_count": 157
        }
      ]
    },
    {
      "cell_type": "markdown",
      "source": [
        "Increases in marriage rating, religiousness and age correspond to a decrease in the likelihood of having an affair. \n",
        "\n",
        "For the lowest likelihood of an increase in having an affair corresponds to the occupation, the education and the income."
      ],
      "metadata": {
        "id": "avqtc4Dg7gDE"
      }
    },
    {
      "cell_type": "markdown",
      "source": [
        "### Model evaluation using a validation set"
      ],
      "metadata": {
        "id": "CjNIua7HCLW7"
      }
    },
    {
      "cell_type": "code",
      "source": [
        "# Splitting the dataset into train and test sets\n",
        "\n",
        "x_train,x_test,y_train,y_test=train_test_split(X,y,test_size=0.3,random_state=1)\n",
        "print(x_train.shape)\n",
        "print(y_train.shape)\n",
        "print(x_test.shape)\n",
        "print(y_test.shape)"
      ],
      "metadata": {
        "id": "Y1aOs-7Sx81o",
        "colab": {
          "base_uri": "https://localhost:8080/"
        },
        "outputId": "988ad688-8e51-40c8-cf6b-e25a52a19855"
      },
      "execution_count": null,
      "outputs": [
        {
          "output_type": "stream",
          "name": "stdout",
          "text": [
            "(420, 10)\n",
            "(420,)\n",
            "(181, 10)\n",
            "(181,)\n"
          ]
        }
      ]
    },
    {
      "cell_type": "code",
      "source": [
        "# Building logistic model\n",
        "\n",
        "affairs_log_model = LogisticRegression(max_iter = 1000)\n",
        "\n",
        "X_log = affairs_log_model.fit(x_train,y_train)"
      ],
      "metadata": {
        "id": "hUl9lZsPyUw_"
      },
      "execution_count": null,
      "outputs": []
    },
    {
      "cell_type": "code",
      "source": [
        "# Predicting y on the x_train and x_test using logistic\n",
        "\n",
        "y_log_train_predicted=affairs_log_model.predict(x_train)\n",
        "\n",
        "y_log_predicted=affairs_log_model.predict(x_test)\n",
        "\n",
        "print(y_log_predicted)"
      ],
      "metadata": {
        "id": "YFt2y5_pKPA4",
        "colab": {
          "base_uri": "https://localhost:8080/"
        },
        "outputId": "dcdcfe84-a500-4296-d402-871a8bcdb9c3"
      },
      "execution_count": null,
      "outputs": [
        {
          "output_type": "stream",
          "name": "stdout",
          "text": [
            "[0 0 0 0 0 0 0 0 0 0 0 0 0 0 0 0 0 0 0 0 0 0 0 0 0 0 0 0 0 0 0 0 0 0 0 0 0\n",
            " 0 0 0 0 0 0 0 0 0 0 0 0 0 0 0 0 0 0 1 0 0 0 0 0 0 0 0 0 0 0 0 1 0 0 1 0 0\n",
            " 1 0 0 0 0 0 0 0 0 0 0 0 0 0 0 0 0 0 0 0 0 1 0 0 0 0 0 0 0 0 0 0 0 0 0 0 0\n",
            " 0 0 0 0 0 0 0 0 0 0 0 0 0 0 0 0 0 0 0 0 0 0 0 0 0 0 0 0 0 0 1 0 0 0 1 0 0\n",
            " 0 0 1 0 0 0 0 0 0 0 0 0 1 0 0 0 0 0 0 0 0 0 0 0 1 1 0 0 0 0 0 0 0]\n"
          ]
        }
      ]
    },
    {
      "cell_type": "code",
      "source": [
        "# Checking accuracy of logistic\n",
        "\n",
        "from sklearn.metrics import accuracy_score, confusion_matrix,roc_curve,classification_report\n",
        "print(\"train set accuracy score: \", accuracy_score(y_train,y_log_train_predicted))\n",
        "print(\"test set accuracy score :\", accuracy_score(y_test,y_log_predicted))"
      ],
      "metadata": {
        "id": "36TUs8W2yZrf",
        "colab": {
          "base_uri": "https://localhost:8080/"
        },
        "outputId": "3b057e20-38d9-4c30-8c71-7d329494364b"
      },
      "execution_count": null,
      "outputs": [
        {
          "output_type": "stream",
          "name": "stdout",
          "text": [
            "train set accuracy score:  0.7547619047619047\n",
            "test set accuracy score : 0.7624309392265194\n"
          ]
        }
      ]
    },
    {
      "cell_type": "markdown",
      "source": [
        "The use of logistic regression is due to the target variable being a binary outcome (i.e. discrete variable) and hence logistic is the most appropriate model.\n",
        "\n",
        "With the built model, it is possible to use the predictors (gender, age, yearsmarried, children, religiousness, occupation, education, rating and income) to predict whether an individual had an affair in the last 12 months to an accuracy of 77%."
      ],
      "metadata": {
        "id": "1GXad6vuY1Bl"
      }
    },
    {
      "cell_type": "code",
      "source": [
        "# generate class probabilities\n",
        "probs = affairs_log_model.predict_proba(x_test)\n",
        "print(probs)"
      ],
      "metadata": {
        "colab": {
          "base_uri": "https://localhost:8080/"
        },
        "id": "Cm0K_HhwAIRC",
        "outputId": "a6037766-00a8-439f-c901-d01a7b78379b"
      },
      "execution_count": null,
      "outputs": [
        {
          "output_type": "stream",
          "name": "stdout",
          "text": [
            "[[0.87350154 0.12649846]\n",
            " [0.81713379 0.18286621]\n",
            " [0.65290079 0.34709921]\n",
            " [0.97628437 0.02371563]\n",
            " [0.86551353 0.13448647]\n",
            " [0.79031203 0.20968797]\n",
            " [0.70331124 0.29668876]\n",
            " [0.65524875 0.34475125]\n",
            " [0.7326855  0.2673145 ]\n",
            " [0.84104198 0.15895802]\n",
            " [0.86155345 0.13844655]\n",
            " [0.90617842 0.09382158]\n",
            " [0.70059834 0.29940166]\n",
            " [0.69102507 0.30897493]\n",
            " [0.78206983 0.21793017]\n",
            " [0.94331799 0.05668201]\n",
            " [0.88163797 0.11836203]\n",
            " [0.84820611 0.15179389]\n",
            " [0.86833971 0.13166029]\n",
            " [0.61535877 0.38464123]\n",
            " [0.78725884 0.21274116]\n",
            " [0.71213921 0.28786079]\n",
            " [0.79474422 0.20525578]\n",
            " [0.9257159  0.0742841 ]\n",
            " [0.53144274 0.46855726]\n",
            " [0.81252815 0.18747185]\n",
            " [0.73120531 0.26879469]\n",
            " [0.57567484 0.42432516]\n",
            " [0.88939449 0.11060551]\n",
            " [0.86935059 0.13064941]\n",
            " [0.55823684 0.44176316]\n",
            " [0.62082237 0.37917763]\n",
            " [0.75204125 0.24795875]\n",
            " [0.80159904 0.19840096]\n",
            " [0.73752377 0.26247623]\n",
            " [0.85483425 0.14516575]\n",
            " [0.69902292 0.30097708]\n",
            " [0.70139348 0.29860652]\n",
            " [0.86259492 0.13740508]\n",
            " [0.63754166 0.36245834]\n",
            " [0.604643   0.395357  ]\n",
            " [0.85660721 0.14339279]\n",
            " [0.72699993 0.27300007]\n",
            " [0.8762602  0.1237398 ]\n",
            " [0.54372938 0.45627062]\n",
            " [0.9396271  0.0603729 ]\n",
            " [0.56226738 0.43773262]\n",
            " [0.82782699 0.17217301]\n",
            " [0.676625   0.323375  ]\n",
            " [0.94250963 0.05749037]\n",
            " [0.93806368 0.06193632]\n",
            " [0.78619263 0.21380737]\n",
            " [0.79979139 0.20020861]\n",
            " [0.51640347 0.48359653]\n",
            " [0.6376273  0.3623727 ]\n",
            " [0.46821826 0.53178174]\n",
            " [0.87685325 0.12314675]\n",
            " [0.53041816 0.46958184]\n",
            " [0.89914834 0.10085166]\n",
            " [0.92644153 0.07355847]\n",
            " [0.82682038 0.17317962]\n",
            " [0.5004416  0.4995584 ]\n",
            " [0.67837595 0.32162405]\n",
            " [0.84579453 0.15420547]\n",
            " [0.87068097 0.12931903]\n",
            " [0.65098186 0.34901814]\n",
            " [0.8956498  0.1043502 ]\n",
            " [0.79929156 0.20070844]\n",
            " [0.28591173 0.71408827]\n",
            " [0.84192206 0.15807794]\n",
            " [0.73749159 0.26250841]\n",
            " [0.47376423 0.52623577]\n",
            " [0.78195514 0.21804486]\n",
            " [0.73331908 0.26668092]\n",
            " [0.46605372 0.53394628]\n",
            " [0.77799109 0.22200891]\n",
            " [0.92669388 0.07330612]\n",
            " [0.86675633 0.13324367]\n",
            " [0.55335943 0.44664057]\n",
            " [0.79158695 0.20841305]\n",
            " [0.84184363 0.15815637]\n",
            " [0.6610143  0.3389857 ]\n",
            " [0.96278505 0.03721495]\n",
            " [0.52299736 0.47700264]\n",
            " [0.71864414 0.28135586]\n",
            " [0.57925854 0.42074146]\n",
            " [0.89978581 0.10021419]\n",
            " [0.80962515 0.19037485]\n",
            " [0.74901056 0.25098944]\n",
            " [0.84546111 0.15453889]\n",
            " [0.72850193 0.27149807]\n",
            " [0.92551415 0.07448585]\n",
            " [0.51317082 0.48682918]\n",
            " [0.76732185 0.23267815]\n",
            " [0.90964082 0.09035918]\n",
            " [0.44004547 0.55995453]\n",
            " [0.9220669  0.0779331 ]\n",
            " [0.50920129 0.49079871]\n",
            " [0.90546679 0.09453321]\n",
            " [0.6254153  0.3745847 ]\n",
            " [0.65557894 0.34442106]\n",
            " [0.69334608 0.30665392]\n",
            " [0.58641731 0.41358269]\n",
            " [0.84376489 0.15623511]\n",
            " [0.84506359 0.15493641]\n",
            " [0.85949084 0.14050916]\n",
            " [0.63503795 0.36496205]\n",
            " [0.65273887 0.34726113]\n",
            " [0.89056954 0.10943046]\n",
            " [0.85781122 0.14218878]\n",
            " [0.83178275 0.16821725]\n",
            " [0.79961245 0.20038755]\n",
            " [0.81244393 0.18755607]\n",
            " [0.67009444 0.32990556]\n",
            " [0.82295166 0.17704834]\n",
            " [0.89798611 0.10201389]\n",
            " [0.7558641  0.2441359 ]\n",
            " [0.83941193 0.16058807]\n",
            " [0.80404212 0.19595788]\n",
            " [0.94662358 0.05337642]\n",
            " [0.87959027 0.12040973]\n",
            " [0.53923965 0.46076035]\n",
            " [0.63924379 0.36075621]\n",
            " [0.55573669 0.44426331]\n",
            " [0.68103721 0.31896279]\n",
            " [0.77449638 0.22550362]\n",
            " [0.88787237 0.11212763]\n",
            " [0.94014366 0.05985634]\n",
            " [0.76546089 0.23453911]\n",
            " [0.92387803 0.07612197]\n",
            " [0.82085056 0.17914944]\n",
            " [0.91282179 0.08717821]\n",
            " [0.88957113 0.11042887]\n",
            " [0.863498   0.136502  ]\n",
            " [0.96373728 0.03626272]\n",
            " [0.90178325 0.09821675]\n",
            " [0.88425243 0.11574757]\n",
            " [0.90476722 0.09523278]\n",
            " [0.88734107 0.11265893]\n",
            " [0.90949229 0.09050771]\n",
            " [0.62779688 0.37220312]\n",
            " [0.49921096 0.50078904]\n",
            " [0.91160625 0.08839375]\n",
            " [0.88920812 0.11079188]\n",
            " [0.66569244 0.33430756]\n",
            " [0.43779897 0.56220103]\n",
            " [0.83075147 0.16924853]\n",
            " [0.86606585 0.13393415]\n",
            " [0.78136436 0.21863564]\n",
            " [0.84068809 0.15931191]\n",
            " [0.35737585 0.64262415]\n",
            " [0.93600294 0.06399706]\n",
            " [0.8611891  0.1388109 ]\n",
            " [0.79603336 0.20396664]\n",
            " [0.76876055 0.23123945]\n",
            " [0.60027194 0.39972806]\n",
            " [0.6879984  0.3120016 ]\n",
            " [0.71401372 0.28598628]\n",
            " [0.67730255 0.32269745]\n",
            " [0.61851141 0.38148859]\n",
            " [0.47943599 0.52056401]\n",
            " [0.79035974 0.20964026]\n",
            " [0.57079668 0.42920332]\n",
            " [0.88625442 0.11374558]\n",
            " [0.52801862 0.47198138]\n",
            " [0.79188462 0.20811538]\n",
            " [0.94653132 0.05346868]\n",
            " [0.97277495 0.02722505]\n",
            " [0.52958971 0.47041029]\n",
            " [0.70738703 0.29261297]\n",
            " [0.87635493 0.12364507]\n",
            " [0.667264   0.332736  ]\n",
            " [0.49800487 0.50199513]\n",
            " [0.42265981 0.57734019]\n",
            " [0.77875593 0.22124407]\n",
            " [0.6671825  0.3328175 ]\n",
            " [0.95918395 0.04081605]\n",
            " [0.88658991 0.11341009]\n",
            " [0.64731465 0.35268535]\n",
            " [0.61768729 0.38231271]\n",
            " [0.72136889 0.27863111]]\n"
          ]
        }
      ]
    },
    {
      "cell_type": "markdown",
      "source": [
        "In the class probabilities, any time the probability in the second column is above 0.5, the classifier is predicting a 1 (having an affair)."
      ],
      "metadata": {
        "id": "TJ9VsENWNxna"
      }
    },
    {
      "cell_type": "code",
      "source": [
        "# generate evaluation metrics\n",
        "print(accuracy_score(y_test, y_log_predicted))\n"
      ],
      "metadata": {
        "colab": {
          "base_uri": "https://localhost:8080/"
        },
        "id": "cxFov-B2RuQ9",
        "outputId": "91c87ce4-4536-4c3e-8687-37a78e3caa90"
      },
      "execution_count": null,
      "outputs": [
        {
          "output_type": "stream",
          "name": "stdout",
          "text": [
            "0.7624309392265194\n"
          ]
        }
      ]
    },
    {
      "cell_type": "markdown",
      "source": [
        "The accuracy is 77%, which is the same as we experienced when training and predicting on the same data."
      ],
      "metadata": {
        "id": "cKeY24xSVp72"
      }
    },
    {
      "cell_type": "code",
      "source": [
        "from sklearn.metrics import confusion_matrix\n",
        "\n",
        "conf_mat = confusion_matrix(y_test,y_log_predicted) \n",
        "\n",
        "print(conf_mat)\n"
      ],
      "metadata": {
        "id": "fLGuCMb_jRgb",
        "colab": {
          "base_uri": "https://localhost:8080/"
        },
        "outputId": "4cd300c6-8ff8-4ee1-97bc-707584bb8111"
      },
      "execution_count": null,
      "outputs": [
        {
          "output_type": "stream",
          "name": "stdout",
          "text": [
            "[[130   3]\n",
            " [ 40   8]]\n"
          ]
        }
      ]
    },
    {
      "cell_type": "markdown",
      "source": [
        "##Model Evaluation Using Cross-Validation"
      ],
      "metadata": {
        "id": "eJTU_zCJXqlS"
      }
    },
    {
      "cell_type": "code",
      "source": [
        "\n",
        "from sklearn.model_selection import cross_val_score\n",
        "# evaluate the model using 10-fold cross-validation\n",
        "scores = cross_val_score(LogisticRegression(), X, y, scoring='accuracy', cv=10)\n",
        "print(scores)\n",
        "print(scores.mean())"
      ],
      "metadata": {
        "id": "E_ViuYZ-X-Jg"
      },
      "execution_count": null,
      "outputs": []
    },
    {
      "cell_type": "markdown",
      "source": [
        "Looks good. It's still performing at 77% accuracy."
      ],
      "metadata": {
        "id": "bEr61mx-axfR"
      }
    },
    {
      "cell_type": "markdown",
      "source": [
        "# Hypothesis Testing\n",
        "\n",
        "\n",
        "\n"
      ],
      "metadata": {
        "id": "ElfZBqADDDGp"
      }
    },
    {
      "cell_type": "markdown",
      "source": [
        "## Objective 2: To determine which gender has more extramarital affairs."
      ],
      "metadata": {
        "id": "5JtT1ka2LCc9"
      }
    },
    {
      "cell_type": "code",
      "source": [
        "# Countplot of Affairs with respect to gender\n",
        "\n",
        "sns.countplot(x ='gender', hue = \"affairs_bin\", data = Affairs_cat);"
      ],
      "metadata": {
        "colab": {
          "base_uri": "https://localhost:8080/",
          "height": 234
        },
        "id": "LwC9dn5gm0Vz",
        "outputId": "c0cea1b9-7128-493c-9c9b-96d5fda3e9ab"
      },
      "execution_count": null,
      "outputs": [
        {
          "output_type": "display_data",
          "data": {
            "text/plain": [
              "<Figure size 432x288 with 1 Axes>"
            ],
            "image/png": "[encoded data removed]"
          },
          "metadata": {
            "needs_background": "light"
          }
        }
      ]
    },
    {
      "cell_type": "markdown",
      "source": [
        "Setting the null and alternative hypothesis\n",
        "\n",
        "\n",
        "\n",
        "Proportion of male having affairs is equal to the proportion of female having affairs.\n",
        "\n",
        "\n",
        "H0: p_males_affairs = p_females_affairs\n",
        "\n",
        "\n",
        "H1: p_males_affairs ≠ p_females_affairs"
      ],
      "metadata": {
        "id": "t-zyAM3uY5Dp"
      }
    },
    {
      "cell_type": "code",
      "source": [
        "# A contingency table of total number of affairs and gender\n",
        "\n",
        "print(pd.crosstab(Affairs_cat['affairs_bin'],Affairs_cat['gender']), \"\\n\")\n",
        "\n",
        "# A contingency table of proportions of affairs and gender \n",
        "\n",
        "print(pd.crosstab(Affairs_cat.affairs_bin,Affairs_cat.gender).apply(lambda r:r/r.sum(),axis=0))"
      ],
      "metadata": {
        "id": "c40StOlfLCNJ",
        "colab": {
          "base_uri": "https://localhost:8080/"
        },
        "outputId": "4f9a4f13-a717-44d0-8528-591bdad684e5"
      },
      "execution_count": null,
      "outputs": [
        {
          "output_type": "stream",
          "name": "stdout",
          "text": [
            "gender         0    1\n",
            "affairs_bin          \n",
            "0            243  208\n",
            "1             72   78 \n",
            "\n",
            "gender              0         1\n",
            "affairs_bin                    \n",
            "0            0.771429  0.727273\n",
            "1            0.228571  0.272727\n"
          ]
        }
      ]
    },
    {
      "cell_type": "markdown",
      "source": [
        "Out of 601, 72 males and 78 females had extramarital affairs "
      ],
      "metadata": {
        "id": "KhxGVqX2ITa0"
      }
    },
    {
      "cell_type": "code",
      "source": [
        "Affairs.gender.value_counts()"
      ],
      "metadata": {
        "colab": {
          "base_uri": "https://localhost:8080/"
        },
        "id": "m2UgPyi-Q0Gv",
        "outputId": "c4f98667-0529-4cab-8be5-534c07a4107e"
      },
      "execution_count": null,
      "outputs": [
        {
          "output_type": "execute_result",
          "data": {
            "text/plain": [
              "female    315\n",
              "male      286\n",
              "Name: gender, dtype: int64"
            ]
          },
          "metadata": {},
          "execution_count": 168
        }
      ]
    },
    {
      "cell_type": "code",
      "source": [
        "sample = Affairs.groupby(\"gender\", group_keys = False).apply(lambda strata : strata.sample(frac = 0.391))"
      ],
      "metadata": {
        "id": "l2HErQ9rXL7z"
      },
      "execution_count": null,
      "outputs": []
    },
    {
      "cell_type": "code",
      "source": [
        "sample.gender.value_counts()"
      ],
      "metadata": {
        "colab": {
          "base_uri": "https://localhost:8080/"
        },
        "id": "uRsPuaGJXhlc",
        "outputId": "a96453f6-b3f1-4ceb-90f4-2357c3867e83"
      },
      "execution_count": null,
      "outputs": [
        {
          "output_type": "execute_result",
          "data": {
            "text/plain": [
              "female    123\n",
              "male      112\n",
              "Name: gender, dtype: int64"
            ]
          },
          "metadata": {},
          "execution_count": 170
        }
      ]
    },
    {
      "cell_type": "code",
      "source": [
        "# z score for two samples with confidence level of 95% is given by\n",
        "\n",
        "# z = [(p1 - p2) - 0]/sqrt(p(1-p)((1/n1)+(1/n2)))\n",
        "\n",
        "p = len(sample[sample['affairs']==1])/len(sample)\n",
        "\n",
        "sample_male = sample[sample[\"gender\"]==\"male\"]\n",
        "\n",
        "p1 = len(sample_male[sample_male['affairs']==1])/len(sample_male)\n",
        "\n",
        "n1 = len(sample_male)\n",
        "\n",
        "sample_female = sample[sample[\"gender\"]==\"female\"]\n",
        "\n",
        "p2 = len(sample_female[sample_female['affairs']==1])/len(sample_female)\n",
        "\n",
        "n2 = len(sample_female)"
      ],
      "metadata": {
        "id": "u-Q9c_c4ZvwD"
      },
      "execution_count": null,
      "outputs": []
    },
    {
      "cell_type": "code",
      "source": [
        "# Calculation of the z score\n",
        "\n",
        "z = ((p1 - p2) - 0)/(p*(1-p)*((1/n1)+(1/n2)))**(1/2)\n",
        "\n",
        "z"
      ],
      "metadata": {
        "colab": {
          "base_uri": "https://localhost:8080/"
        },
        "id": "H64mJGoVcD8Q",
        "outputId": "8aaa5664-65b0-4fbe-c8de-1647ddb45a95"
      },
      "execution_count": null,
      "outputs": [
        {
          "output_type": "execute_result",
          "data": {
            "text/plain": [
              "0.9568734736955734"
            ]
          },
          "metadata": {},
          "execution_count": 172
        }
      ]
    },
    {
      "cell_type": "code",
      "source": [
        "# P value associated with the z score obtained is given by \n",
        "\n",
        "from scipy.stats import norm\n",
        "\n",
        "p_value = 2*(norm.sf(abs(z)))\n",
        "\n",
        "p_value"
      ],
      "metadata": {
        "colab": {
          "base_uri": "https://localhost:8080/"
        },
        "id": "RHLjWrqFiqEP",
        "outputId": "2f1c3b17-5e78-4074-ab8d-368c671a0e2a"
      },
      "execution_count": null,
      "outputs": [
        {
          "output_type": "execute_result",
          "data": {
            "text/plain": [
              "0.33863112150307084"
            ]
          },
          "metadata": {},
          "execution_count": 173
        }
      ]
    },
    {
      "cell_type": "markdown",
      "source": [
        "There is not enough evidence to reject the null hypothesis since the p_value is greater than the significance level alpha.\n",
        "\n",
        "There is not a significant difference between the male proportion that have extramarital affairs and the female proportion that have extramarital affairs."
      ],
      "metadata": {
        "id": "hLK0MedhjyOx"
      }
    },
    {
      "cell_type": "markdown",
      "source": [
        "## Follow up questions "
      ],
      "metadata": {
        "id": "29FnlsoLd6pO"
      }
    },
    {
      "cell_type": "markdown",
      "source": [
        "### a) Did we have the right data?"
      ],
      "metadata": {
        "id": "Jdfwws1JeI_M"
      }
    },
    {
      "cell_type": "markdown",
      "source": [
        "We did not have the right data to exhaust all the questions, as it was hard to find data on extramarital affairs."
      ],
      "metadata": {
        "id": "7jkcSEEieVHC"
      }
    },
    {
      "cell_type": "markdown",
      "source": [
        "### b) Do we need other data to answer our questions?"
      ],
      "metadata": {
        "id": "2F3eX7Ome-El"
      }
    },
    {
      "cell_type": "markdown",
      "source": [
        "Other data with up to date records, the income of the respondents, the state of where the respondents live is required to answer the questions in detail."
      ],
      "metadata": {
        "id": "A6njUJopfTvD"
      }
    },
    {
      "cell_type": "markdown",
      "source": [
        "### c) Did we have the right questions?"
      ],
      "metadata": {
        "id": "SeEQ0U2Ye-GR"
      }
    },
    {
      "cell_type": "markdown",
      "source": [
        "We had  the right questions but the dataset did not contain all the required information to answer them."
      ],
      "metadata": {
        "id": "25_m6xR5girn"
      }
    },
    {
      "cell_type": "markdown",
      "source": [
        "## Recommendations"
      ],
      "metadata": {
        "id": "OIr1cdSlg2JZ"
      }
    },
    {
      "cell_type": "markdown",
      "source": [
        "1. More data should be collected on extramarital affairs to aid in future analysis.\n",
        "\n",
        "2. Data from other parts of the world other than the USA should be collected. This will provide a broader  analysis and insight on extramarital affairs.\n",
        "\n",
        "3. Partners who choose to rebuild their relationship after an affair may consider therapy.\n",
        "\n",
        "4. Infidelity therapists should use an integrative approach best suited to the couple seeking help from them."
      ],
      "metadata": {
        "id": "McWaWuj4hITQ"
      }
    }
  ]
}